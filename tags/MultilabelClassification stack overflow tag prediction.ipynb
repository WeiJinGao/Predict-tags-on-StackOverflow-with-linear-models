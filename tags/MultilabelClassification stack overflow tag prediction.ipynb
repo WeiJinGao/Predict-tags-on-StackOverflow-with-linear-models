{
 "cells": [
  {
   "cell_type": "markdown",
   "metadata": {},
   "source": [
    "# Predict tags on StackOverflow with linear models"
   ]
  },
  {
   "cell_type": "markdown",
   "metadata": {},
   "source": [
    "In this assignment you will learn how to predict tags for posts from [StackOverflow](https://stackoverflow.com). To solve this task you will use multilabel classification approach.\n",
    "\n",
    "### Libraries\n",
    "\n",
    "In this task you will need the following libraries:\n",
    "- [Numpy](http://www.numpy.org) — a package for scientific computing.\n",
    "- [Pandas](https://pandas.pydata.org) — a library providing high-performance, easy-to-use data structures and data analysis tools for the Python\n",
    "- [scikit-learn](http://scikit-learn.org/stable/index.html) — a tool for data mining and data analysis.\n",
    "- [NLTK](http://www.nltk.org) — a platform to work with natural language."
   ]
  },
  {
   "cell_type": "markdown",
   "metadata": {},
   "source": [
    "### Data\n",
    "\n",
    "The following cell will download all data required for this assignment into the folder `week1/data`."
   ]
  },
  {
   "cell_type": "code",
   "execution_count": 2,
   "metadata": {},
   "outputs": [
    {
     "data": {
      "application/vnd.jupyter.widget-view+json": {
       "model_id": "8bbbfcb8969942bb948d1021297e5d2f",
       "version_major": 2,
       "version_minor": 0
      },
      "text/html": [
       "<p>Failed to display Jupyter Widget of type <code>HBox</code>.</p>\n",
       "<p>\n",
       "  If you're reading this message in the Jupyter Notebook or JupyterLab Notebook, it may mean\n",
       "  that the widgets JavaScript is still loading. If this message persists, it\n",
       "  likely means that the widgets JavaScript library is either not installed or\n",
       "  not enabled. See the <a href=\"https://ipywidgets.readthedocs.io/en/stable/user_install.html\">Jupyter\n",
       "  Widgets Documentation</a> for setup instructions.\n",
       "</p>\n",
       "<p>\n",
       "  If you're reading this message in another frontend (for example, a static\n",
       "  rendering on GitHub or <a href=\"https://nbviewer.jupyter.org/\">NBViewer</a>),\n",
       "  it may mean that your frontend doesn't currently support widgets.\n",
       "</p>\n"
      ],
      "text/plain": [
       "HBox(children=(IntProgress(value=0, max=7196138), HTML(value='')))"
      ]
     },
     "metadata": {},
     "output_type": "display_data"
    },
    {
     "name": "stdout",
     "output_type": "stream",
     "text": [
      "\n"
     ]
    },
    {
     "data": {
      "application/vnd.jupyter.widget-view+json": {
       "model_id": "e2ef57c7c5a64fc999b71dc32f27a794",
       "version_major": 2,
       "version_minor": 0
      },
      "text/html": [
       "<p>Failed to display Jupyter Widget of type <code>HBox</code>.</p>\n",
       "<p>\n",
       "  If you're reading this message in the Jupyter Notebook or JupyterLab Notebook, it may mean\n",
       "  that the widgets JavaScript is still loading. If this message persists, it\n",
       "  likely means that the widgets JavaScript library is either not installed or\n",
       "  not enabled. See the <a href=\"https://ipywidgets.readthedocs.io/en/stable/user_install.html\">Jupyter\n",
       "  Widgets Documentation</a> for setup instructions.\n",
       "</p>\n",
       "<p>\n",
       "  If you're reading this message in another frontend (for example, a static\n",
       "  rendering on GitHub or <a href=\"https://nbviewer.jupyter.org/\">NBViewer</a>),\n",
       "  it may mean that your frontend doesn't currently support widgets.\n",
       "</p>\n"
      ],
      "text/plain": [
       "HBox(children=(IntProgress(value=0, max=2166270), HTML(value='')))"
      ]
     },
     "metadata": {},
     "output_type": "display_data"
    },
    {
     "name": "stdout",
     "output_type": "stream",
     "text": [
      "\n"
     ]
    },
    {
     "data": {
      "application/vnd.jupyter.widget-view+json": {
       "model_id": "4fd7cd72e0fa4b8f8e29589d083d91d3",
       "version_major": 2,
       "version_minor": 0
      },
      "text/html": [
       "<p>Failed to display Jupyter Widget of type <code>HBox</code>.</p>\n",
       "<p>\n",
       "  If you're reading this message in the Jupyter Notebook or JupyterLab Notebook, it may mean\n",
       "  that the widgets JavaScript is still loading. If this message persists, it\n",
       "  likely means that the widgets JavaScript library is either not installed or\n",
       "  not enabled. See the <a href=\"https://ipywidgets.readthedocs.io/en/stable/user_install.html\">Jupyter\n",
       "  Widgets Documentation</a> for setup instructions.\n",
       "</p>\n",
       "<p>\n",
       "  If you're reading this message in another frontend (for example, a static\n",
       "  rendering on GitHub or <a href=\"https://nbviewer.jupyter.org/\">NBViewer</a>),\n",
       "  it may mean that your frontend doesn't currently support widgets.\n",
       "</p>\n"
      ],
      "text/plain": [
       "HBox(children=(IntProgress(value=0, max=1041379), HTML(value='')))"
      ]
     },
     "metadata": {},
     "output_type": "display_data"
    },
    {
     "name": "stdout",
     "output_type": "stream",
     "text": [
      "\n"
     ]
    },
    {
     "data": {
      "application/vnd.jupyter.widget-view+json": {
       "model_id": "a09785d33c09430983077f6fc49024a6",
       "version_major": 2,
       "version_minor": 0
      },
      "text/html": [
       "<p>Failed to display Jupyter Widget of type <code>HBox</code>.</p>\n",
       "<p>\n",
       "  If you're reading this message in the Jupyter Notebook or JupyterLab Notebook, it may mean\n",
       "  that the widgets JavaScript is still loading. If this message persists, it\n",
       "  likely means that the widgets JavaScript library is either not installed or\n",
       "  not enabled. See the <a href=\"https://ipywidgets.readthedocs.io/en/stable/user_install.html\">Jupyter\n",
       "  Widgets Documentation</a> for setup instructions.\n",
       "</p>\n",
       "<p>\n",
       "  If you're reading this message in another frontend (for example, a static\n",
       "  rendering on GitHub or <a href=\"https://nbviewer.jupyter.org/\">NBViewer</a>),\n",
       "  it may mean that your frontend doesn't currently support widgets.\n",
       "</p>\n"
      ],
      "text/plain": [
       "HBox(children=(IntProgress(value=0, max=5091), HTML(value='')))"
      ]
     },
     "metadata": {},
     "output_type": "display_data"
    },
    {
     "name": "stdout",
     "output_type": "stream",
     "text": [
      "\n"
     ]
    }
   ],
   "source": [
    "import sys\n",
    "sys.path.append(\"..\")\n",
    "from common.download_utils import download_week1_resources\n",
    "\n",
    "download_week1_resources()"
   ]
  },
  {
   "cell_type": "markdown",
   "metadata": {},
   "source": [
    "### Grading\n",
    "We will create a grader instace below and use it to collect your answers. Note that these outputs will be stored locally inside grader and will be uploaded to platform only after running submiting function in the last part of this assignment. If you want to make partial submission, you can run that cell any time you want."
   ]
  },
  {
   "cell_type": "code",
   "execution_count": 1,
   "metadata": {},
   "outputs": [],
   "source": [
    "from grader import Grader"
   ]
  },
  {
   "cell_type": "code",
   "execution_count": 2,
   "metadata": {},
   "outputs": [
    {
     "name": "stdout",
     "output_type": "stream",
     "text": [
      "done\n"
     ]
    }
   ],
   "source": [
    "grader = Grader()\n",
    "print(\"done\")"
   ]
  },
  {
   "cell_type": "markdown",
   "metadata": {},
   "source": [
    "### Text preprocessing"
   ]
  },
  {
   "cell_type": "markdown",
   "metadata": {},
   "source": [
    "For this and most of the following assignments you will need to use a list of stop words. It can be downloaded from *nltk*:"
   ]
  },
  {
   "cell_type": "code",
   "execution_count": 3,
   "metadata": {},
   "outputs": [
    {
     "name": "stdout",
     "output_type": "stream",
     "text": [
      "[nltk_data] Error loading stopwords: <urlopen error Tunnel connection\n",
      "[nltk_data]     failed: 407 Proxy Authentication Required>\n",
      "done\n"
     ]
    }
   ],
   "source": [
    "import nltk\n",
    "nltk.download('stopwords')\n",
    "from nltk.corpus import stopwords\n",
    "print(\"done\")"
   ]
  },
  {
   "cell_type": "markdown",
   "metadata": {},
   "source": [
    "In this task you will deal with a dataset of post titles from StackOverflow. You are provided a split to 3 sets: *train*, *validation* and *test*. All corpora (except for *test*) contain titles of the posts and corresponding tags (100 tags are available). The *test* set is provided for Coursera's grading and doesn't contain answers. Upload the corpora using *pandas* and look at the data:"
   ]
  },
  {
   "cell_type": "code",
   "execution_count": 4,
   "metadata": {},
   "outputs": [
    {
     "name": "stdout",
     "output_type": "stream",
     "text": [
      "done\n"
     ]
    }
   ],
   "source": [
    "from ast import literal_eval\n",
    "import pandas as pd\n",
    "import numpy as np\n",
    "print(\"done\")"
   ]
  },
  {
   "cell_type": "code",
   "execution_count": 5,
   "metadata": {},
   "outputs": [
    {
     "name": "stdout",
     "output_type": "stream",
     "text": [
      "done\n"
     ]
    }
   ],
   "source": [
    "def read_data(filename):\n",
    "    data = pd.read_csv(filename, sep='\\t')\n",
    "    data['tags'] = data['tags'].apply(literal_eval)\n",
    "    return data\n",
    "\n",
    "print(\"done\")"
   ]
  },
  {
   "cell_type": "code",
   "execution_count": 6,
   "metadata": {},
   "outputs": [
    {
     "name": "stdout",
     "output_type": "stream",
     "text": [
      "done\n"
     ]
    }
   ],
   "source": [
    "train = read_data('data/train.tsv')\n",
    "validation = read_data('data/validation.tsv')\n",
    "test = pd.read_csv('data/test.tsv', sep='\\t')\n",
    "print(\"done\")"
   ]
  },
  {
   "cell_type": "code",
   "execution_count": 10,
   "metadata": {},
   "outputs": [
    {
     "data": {
      "text/html": [
       "<div>\n",
       "<style scoped>\n",
       "    .dataframe tbody tr th:only-of-type {\n",
       "        vertical-align: middle;\n",
       "    }\n",
       "\n",
       "    .dataframe tbody tr th {\n",
       "        vertical-align: top;\n",
       "    }\n",
       "\n",
       "    .dataframe thead th {\n",
       "        text-align: right;\n",
       "    }\n",
       "</style>\n",
       "<table border=\"1\" class=\"dataframe\">\n",
       "  <thead>\n",
       "    <tr style=\"text-align: right;\">\n",
       "      <th></th>\n",
       "      <th>title</th>\n",
       "      <th>tags</th>\n",
       "    </tr>\n",
       "  </thead>\n",
       "  <tbody>\n",
       "    <tr>\n",
       "      <th>0</th>\n",
       "      <td>How to draw a stacked dotplot in R?</td>\n",
       "      <td>[r]</td>\n",
       "    </tr>\n",
       "    <tr>\n",
       "      <th>1</th>\n",
       "      <td>mysql select all records where a datetime fiel...</td>\n",
       "      <td>[php, mysql]</td>\n",
       "    </tr>\n",
       "    <tr>\n",
       "      <th>2</th>\n",
       "      <td>How to terminate windows phone 8.1 app</td>\n",
       "      <td>[c#]</td>\n",
       "    </tr>\n",
       "    <tr>\n",
       "      <th>3</th>\n",
       "      <td>get current time in a specific country via jquery</td>\n",
       "      <td>[javascript, jquery]</td>\n",
       "    </tr>\n",
       "    <tr>\n",
       "      <th>4</th>\n",
       "      <td>Configuring Tomcat to Use SSL</td>\n",
       "      <td>[java]</td>\n",
       "    </tr>\n",
       "  </tbody>\n",
       "</table>\n",
       "</div>"
      ],
      "text/plain": [
       "                                               title                  tags\n",
       "0                How to draw a stacked dotplot in R?                   [r]\n",
       "1  mysql select all records where a datetime fiel...          [php, mysql]\n",
       "2             How to terminate windows phone 8.1 app                  [c#]\n",
       "3  get current time in a specific country via jquery  [javascript, jquery]\n",
       "4                      Configuring Tomcat to Use SSL                [java]"
      ]
     },
     "execution_count": 10,
     "metadata": {},
     "output_type": "execute_result"
    }
   ],
   "source": [
    "train.head()"
   ]
  },
  {
   "cell_type": "code",
   "execution_count": 11,
   "metadata": {},
   "outputs": [
    {
     "data": {
      "text/plain": [
       "'Getting error - type \"json\" does not exist - in Postgresql during rake db migrate'"
      ]
     },
     "execution_count": 11,
     "metadata": {},
     "output_type": "execute_result"
    }
   ],
   "source": [
    "validation.iloc[4]['title']"
   ]
  },
  {
   "cell_type": "markdown",
   "metadata": {},
   "source": [
    "As you can see, *title* column contains titles of the posts and *tags* colum countains the tags. It could be noticed that a number of tags for a post is not fixed and could be as many as necessary."
   ]
  },
  {
   "cell_type": "markdown",
   "metadata": {},
   "source": [
    "For a more comfortable usage, initialize *X_train*, *X_val*, *X_test*, *y_train*, *y_val*."
   ]
  },
  {
   "cell_type": "code",
   "execution_count": 7,
   "metadata": {},
   "outputs": [
    {
     "name": "stdout",
     "output_type": "stream",
     "text": [
      "done\n"
     ]
    }
   ],
   "source": [
    "X_train, y_train = train['title'].values, train['tags'].values\n",
    "X_val, y_val = validation['title'].values, validation['tags'].values\n",
    "X_test = test['title'].values\n",
    "print(\"done\")"
   ]
  },
  {
   "cell_type": "markdown",
   "metadata": {},
   "source": [
    "One of the most known difficulties when working with natural data is that it's unstructured. For example, if you use it \"as is\" and extract tokens just by splitting the titles by whitespaces, you will see that there are many \"weird\" tokens like *3.5?*, *\"Flip*, etc. To prevent the problems, it's usually useful to prepare the data somehow. In this task you'll write a function, which will be also used in the other assignments. \n",
    "\n",
    "**Task 1 (TextPrepare).** Implement the function *text_prepare* following the instructions. After that, run the function *test_test_prepare* to test it on tiny cases and submit it to Coursera."
   ]
  },
  {
   "cell_type": "code",
   "execution_count": 8,
   "metadata": {},
   "outputs": [
    {
     "name": "stdout",
     "output_type": "stream",
     "text": [
      "[nltk_data] Error loading punkt: <urlopen error Tunnel connection\n",
      "[nltk_data]     failed: 407 Proxy Authentication Required>\n",
      "done\n"
     ]
    }
   ],
   "source": [
    "import re\n",
    "from nltk.tokenize import word_tokenize\n",
    "nltk.download('punkt')\n",
    "\n",
    "print(\"done\")"
   ]
  },
  {
   "cell_type": "code",
   "execution_count": 9,
   "metadata": {},
   "outputs": [
    {
     "name": "stdout",
     "output_type": "stream",
     "text": [
      "done\n"
     ]
    }
   ],
   "source": [
    "REPLACE_BY_SPACE_RE = re.compile('[/(){}\\[\\]\\|@,;]')\n",
    "BAD_SYMBOLS_RE = re.compile('[^0-9a-z #+_]')\n",
    "STOPWORDS = set(stopwords.words('english'))\n",
    "\n",
    "def text_prepare(text):\n",
    "    \"\"\"\n",
    "        text: a string\n",
    "        \n",
    "        return: modified initial string\n",
    "    \"\"\"\n",
    "    #text = # lowercase text\n",
    "    text =text.lower()\n",
    "    #text = # replace REPLACE_BY_SPACE_RE symbols by space in text\n",
    "    text = re.sub(REPLACE_BY_SPACE_RE, ' ', text)\n",
    "    #text = # delete symbols which are in BAD_SYMBOLS_RE from text\n",
    "    text =  re.sub(BAD_SYMBOLS_RE, '', text)\n",
    "    #text = # delete stopwords from text\n",
    "    token_word=word_tokenize(text)\n",
    "    filtered_sentence = [w for w in token_word if not w in STOPWORDS]\n",
    "    lenght_of_string=len(filtered_sentence)\n",
    "    text_new=\"\"\n",
    "    for w in filtered_sentence:\n",
    "        if w!=filtered_sentence[lenght_of_string-1]:\n",
    "             text_new=text_new+w+\" \"\n",
    "        else:\n",
    "            text_new=text_new+w\n",
    "            \n",
    "    text = text_new\n",
    "    return text\n",
    "print(\"done\")\n"
   ]
  },
  {
   "cell_type": "code",
   "execution_count": 10,
   "metadata": {},
   "outputs": [
    {
     "name": "stdout",
     "output_type": "stream",
     "text": [
      "done\n"
     ]
    }
   ],
   "source": [
    "def test_text_prepare():\n",
    "    examples = [\"SQL Server - any equivalent of Excel's CHOOSE function?\",\n",
    "                \"How to free c++ memory vector<int> * arr?\"]\n",
    "    answers = [\"sql server equivalent excels choose function\", \n",
    "               \"free c++ memory vectorint arr\"]\n",
    "    for ex, ans in zip(examples, answers):\n",
    "        if text_prepare(ex) != ans:\n",
    "            return \"Wrong answer for the case: '%s'\" % ex\n",
    "    return 'Basic tests are passed.'\n",
    "\n",
    "print(\"done\")"
   ]
  },
  {
   "cell_type": "code",
   "execution_count": 11,
   "metadata": {},
   "outputs": [
    {
     "name": "stdout",
     "output_type": "stream",
     "text": [
      "Basic tests are passed.\n"
     ]
    }
   ],
   "source": [
    "print(test_text_prepare())"
   ]
  },
  {
   "cell_type": "markdown",
   "metadata": {},
   "source": [
    "Run your implementation for questions from file *text_prepare_tests.tsv* to earn the points."
   ]
  },
  {
   "cell_type": "code",
   "execution_count": 12,
   "metadata": {},
   "outputs": [
    {
     "name": "stdout",
     "output_type": "stream",
     "text": [
      "Current answer for task TextPrepare is:\n",
      " sqlite php readonly\n",
      "creating multiple textboxes dynamically\n",
      "self one prefer javascript\n",
      "save php date...\n",
      "done\n"
     ]
    }
   ],
   "source": [
    "prepared_questions = []\n",
    "for line in open('data/text_prepare_tests.tsv', encoding='utf-8'):\n",
    "    line = text_prepare(line.strip())\n",
    "    prepared_questions.append(line)\n",
    "text_prepare_results = '\\n'.join(prepared_questions)\n",
    "\n",
    "grader.submit_tag('TextPrepare', text_prepare_results)\n",
    "print(\"done\")"
   ]
  },
  {
   "cell_type": "markdown",
   "metadata": {},
   "source": [
    "Now we can preprocess the titles using function *text_prepare* and  making sure that the headers don't have bad symbols:"
   ]
  },
  {
   "cell_type": "code",
   "execution_count": 13,
   "metadata": {},
   "outputs": [
    {
     "name": "stdout",
     "output_type": "stream",
     "text": [
      "done\n"
     ]
    }
   ],
   "source": [
    "X_train = [text_prepare(x) for x in X_train]\n",
    "X_val = [text_prepare(x) for x in X_val]\n",
    "X_test = [text_prepare(x) for x in X_test]\n",
    "\n",
    "print(\"done\")"
   ]
  },
  {
   "cell_type": "code",
   "execution_count": 14,
   "metadata": {},
   "outputs": [
    {
     "name": "stdout",
     "output_type": "stream",
     "text": [
      "100000\n",
      "done\n"
     ]
    }
   ],
   "source": [
    "print(len(X_train))\n",
    "\n",
    "import collections \n",
    "from collections import Counter\n",
    "import re\n",
    "\n",
    "words=[]\n",
    "tag_w=[]\n",
    "for i in range(0,100000):\n",
    "    #print(i)\n",
    "    words = words+(re.findall(r'\\w+', X_train[i]))\n",
    "    tag_w=tag_w+y_train[i]\n",
    "\n",
    "print(\"done\")\n",
    "words_counts = Counter(words)\n",
    "tag_counts=Counter(tag_w)\n",
    "#print(words_counts)\n",
    "#print(tag_counts)\n"
   ]
  },
  {
   "cell_type": "markdown",
   "metadata": {},
   "source": [
    "For each tag and for each word calculate how many times they occur in the train corpus. \n",
    "\n",
    "**Task 2 (WordsTagsCount).** Find 3 most popular tags and 3 most popular words in the train data and submit the results to earn the points."
   ]
  },
  {
   "cell_type": "code",
   "execution_count": 16,
   "metadata": {},
   "outputs": [],
   "source": [
    "# Dictionary of all tags from train corpus with their counts.\n",
    "tags_counts = tag_counts\n",
    "# Dictionary of all words from train corpus with their counts.\n",
    "words_counts = Counter(words)\n",
    "#print(tags_counts)\n",
    "#print(tags_counts.keys())\n",
    "\n",
    "\n",
    "#v={}\n",
    "#for i in range(0,10):\n",
    "#    v[most_common_words[i][0]]=i\n",
    "    \n",
    "#print(v)\n",
    "#print(v['javascript'])\n",
    "\n",
    "######################################\n",
    "######### YOUR CODE HERE #############\n",
    "######################################"
   ]
  },
  {
   "cell_type": "markdown",
   "metadata": {},
   "source": [
    "We are assume that *tags_counts* and *words_counts* are dictionaries like `{'some_word_or_tag': frequency}`. After appllying the sorting procedure, results will be look like this: `[('most_popular_word_or_tag', frequency), ('less_popular_word_or_tag', frequency), ...]`. The grader gets the results in the following format (two comma-separated strings with line break):\n",
    "\n",
    "    tag1,tag2,tag3\n",
    "    word1,word2,word3\n",
    "\n",
    "Pay attention that in this assignment you should not submit frequencies or some additional information."
   ]
  },
  {
   "cell_type": "code",
   "execution_count": 17,
   "metadata": {},
   "outputs": [
    {
     "name": "stdout",
     "output_type": "stream",
     "text": [
      "[('using', 8241), ('c', 8145), ('php', 5587)]\n",
      "Current answer for task WordsTagsCount is:\n",
      " javascript,c#,java\n",
      "using,c,php...\n",
      "done\n"
     ]
    }
   ],
   "source": [
    "most_common_tags = sorted(tags_counts.items(), key=lambda x: x[1], reverse=True)[:3]\n",
    "most_common_words = sorted(words_counts.items(), key=lambda x: x[1], reverse=True)[:3]\n",
    "\n",
    "\n",
    "print(most_common_words)\n",
    "grader.submit_tag('WordsTagsCount', '%s\\n%s' % (','.join(tag for tag, _ in most_common_tags), \n",
    "                                                ','.join(word for word, _ in most_common_words)))\n",
    "\n",
    "print(\"done\")"
   ]
  },
  {
   "cell_type": "markdown",
   "metadata": {},
   "source": [
    "### Transforming text to a vector\n",
    "\n",
    "Machine Learning algorithms work with numeric data and we cannot use the provided text data \"as is\". There are many ways to transform text data to numeric vectors. In this task you will try to use two of them.\n",
    "\n",
    "#### Bag of words\n",
    "\n",
    "One of the well-known approaches is a *bag-of-words* representation. To create this transformation, follow the steps:\n",
    "1. Find *N* most popular words in train corpus and numerate them. Now we have a dictionary of the most popular words.\n",
    "2. For each title in the corpora create a zero vector with the dimension equals to *N*.\n",
    "3. For each text in the corpora iterate over words which are in the dictionary and increase by 1 the corresponding coordinate.\n",
    "\n",
    "Let's try to do it for a toy example. Imagine that we have *N* = 4 and the list of the most popular words is \n",
    "\n",
    "    ['hi', 'you','me', 'are']\n",
    "\n",
    "Then we need to numerate them, for example, like this: \n",
    "\n",
    "    {'hi': 0, 'you': 1, 'me': 2, 'are': 3}\n",
    "\n",
    "And we have the text, which we want to transform to the vector:\n",
    "\n",
    "    'hi how are you'\n",
    "\n",
    "For this text we create a corresponding zero vector \n",
    "\n",
    "    [0, 0, 0, 0]\n",
    "    \n",
    "And interate over all words, and if the word is in the dictionary, we increase the value of the corresponding position in the vector:\n",
    "\n",
    "    'hi':  [1, 0, 0, 0]\n",
    "    'how': [1, 0, 0, 0] # word 'how' is not in our dictionary\n",
    "    'are': [1, 0, 0, 1]\n",
    "    'you': [1, 1, 0, 1]\n",
    "\n",
    "The resulting vector will be \n",
    "\n",
    "    [1, 1, 0, 1]\n",
    "   \n",
    "Implement the described encoding in the function *my_bag_of_words* with the size of the dictionary equals to 5000. To find the most common words use train data. You can test your code using the function *test_my_bag_of_words*."
   ]
  },
  {
   "cell_type": "code",
   "execution_count": 18,
   "metadata": {},
   "outputs": [
    {
     "name": "stdout",
     "output_type": "stream",
     "text": [
      "dsf\n"
     ]
    }
   ],
   "source": [
    "DICT_SIZE = 5000\n",
    "most_common_words = sorted(words_counts.items(), key=lambda x: x[1], reverse=True)[:5000]\n",
    "WORDS_TO_INDEX={}\n",
    "INDEX_TO_WORDS={}\n",
    "for i in range(0,5000):\n",
    "    WORDS_TO_INDEX[most_common_words[i][0]]=i\n",
    "    INDEX_TO_WORDS[i]=most_common_words[i][0]\n",
    "\n",
    "#rt={'hi': 0, 'you': 1, 'me': 2, 'are': 3}\n",
    "#for key, value in rt.items():\n",
    " #   if key=='hi':\n",
    "  #      print(key)\n",
    "   # else:\n",
    "    #    print(\"not e\")\n",
    "\n",
    "\n",
    "#examples = ['hi how are you']\n",
    "#answers = [[1, 1, 0, 1]]\n",
    "#for ex, ans in zip(examples, answers):\n",
    "#        print(\"string is :\")\n",
    "        \n",
    "\n",
    "#y=ex.split(\" \")\n",
    "#print(y)\n",
    "#print(len(y))\n",
    "#print(y[len(y)-1])\n",
    "\n",
    "#result_vector = np.zeros(4)\n",
    "#ex='hi how are you'\n",
    "#y=ex.split(\" \")\n",
    "#for i in range(0,len(y)):\n",
    " #     for key,value in rt.items():\n",
    "  #        #  print(y[i])\n",
    "   #        # print(key)\n",
    "    #        if y[i]==key:\n",
    "     #           result_vector[rt[key]]=result_vector[rt[key]]+1\n",
    "#print(result_vector)\n",
    "    \n",
    "#INDEX_TO_WORDS = ####### YOUR CODE HERE #######\n",
    "ALL_WORDS = WORDS_TO_INDEX.keys()\n",
    "\n",
    "def my_bag_of_words(text, words_to_index, dict_size):\n",
    "    \"\"\"\n",
    "        text: a string\n",
    "        dict_size: size of the dictionary\n",
    "        \n",
    "        return a vector which is a bag-of-words representation of 'text'\n",
    "    \"\"\"\n",
    "    result_vector = np.zeros(dict_size)\n",
    "    y=text.split(\" \")\n",
    "    for i in range(0,len(y)):\n",
    "        for key,value in words_to_index.items():\n",
    "            if y[i]==key:\n",
    "                result_vector[words_to_index[key]]=result_vector[words_to_index[key]]+1\n",
    "            \n",
    "    return result_vector\n",
    "\n",
    "print(\"dsf\")"
   ]
  },
  {
   "cell_type": "code",
   "execution_count": 19,
   "metadata": {},
   "outputs": [],
   "source": [
    "def test_my_bag_of_words():\n",
    "    words_to_index = {'hi': 0, 'you': 1, 'me': 2, 'are': 3}\n",
    "    examples = ['hi how are you']\n",
    "    answers = [[1, 1, 0, 1]]\n",
    "    for ex, ans in zip(examples, answers):\n",
    "        if (my_bag_of_words(ex, words_to_index, 4) != ans).any():\n",
    "            return \"Wrong answer for the case: '%s'\" % ex\n",
    "    return 'Basic tests are passed.'"
   ]
  },
  {
   "cell_type": "code",
   "execution_count": 20,
   "metadata": {},
   "outputs": [
    {
     "name": "stdout",
     "output_type": "stream",
     "text": [
      "Basic tests are passed.\n"
     ]
    }
   ],
   "source": [
    "print(test_my_bag_of_words())"
   ]
  },
  {
   "cell_type": "markdown",
   "metadata": {},
   "source": [
    "Now apply the implemented function to all samples (this might take up to a minute):"
   ]
  },
  {
   "cell_type": "code",
   "execution_count": 21,
   "metadata": {},
   "outputs": [],
   "source": [
    "from scipy import sparse as sp_sparse"
   ]
  },
  {
   "cell_type": "code",
   "execution_count": 22,
   "metadata": {},
   "outputs": [
    {
     "name": "stdout",
     "output_type": "stream",
     "text": [
      "X_train shape  (100000, 5000)\n",
      "X_val shape  (30000, 5000)\n",
      "X_test shape  (20000, 5000)\n"
     ]
    }
   ],
   "source": [
    "X_train_mybag = sp_sparse.vstack([sp_sparse.csr_matrix(my_bag_of_words(text, WORDS_TO_INDEX, DICT_SIZE)) for text in X_train])\n",
    "X_val_mybag = sp_sparse.vstack([sp_sparse.csr_matrix(my_bag_of_words(text, WORDS_TO_INDEX, DICT_SIZE)) for text in X_val])\n",
    "X_test_mybag = sp_sparse.vstack([sp_sparse.csr_matrix(my_bag_of_words(text, WORDS_TO_INDEX, DICT_SIZE)) for text in X_test])\n",
    "print('X_train shape ', X_train_mybag.shape)\n",
    "print('X_val shape ', X_val_mybag.shape)\n",
    "print('X_test shape ', X_test_mybag.shape)"
   ]
  },
  {
   "cell_type": "markdown",
   "metadata": {},
   "source": [
    "As you might notice, we transform the data to sparse representation, to store the useful information efficiently. There are many [types](https://docs.scipy.org/doc/scipy/reference/sparse.html) of such representations, however slkearn algorithms can work only with [csr](https://docs.scipy.org/doc/scipy/reference/generated/scipy.sparse.csr_matrix.html#scipy.sparse.csr_matrix) matrix, so we will use this one."
   ]
  },
  {
   "cell_type": "markdown",
   "metadata": {},
   "source": [
    "**Task 3 (BagOfWords).** For the 10th row in *X_train_mybag* find how many non-zero elements it has. In this task the answer (variable *non_zero_elements_count*) should be a number, e.g. 20."
   ]
  },
  {
   "cell_type": "code",
   "execution_count": 23,
   "metadata": {
    "scrolled": true
   },
   "outputs": [
    {
     "name": "stdout",
     "output_type": "stream",
     "text": [
      "6\n",
      "Current answer for task BagOfWords is:\n",
      " 6...\n"
     ]
    }
   ],
   "source": [
    "row = X_train_mybag[10].toarray()[0]\n",
    "non_zero_elements_count=0\n",
    "for i in range(0,5000):\n",
    "    if (row[i]==1):\n",
    "        non_zero_elements_count=non_zero_elements_count+1\n",
    "    \n",
    "\n",
    "print(non_zero_elements_count)\n",
    "#non_zero_elements_count = ####### YOUR CODE HERE #######\n",
    "\n",
    "grader.submit_tag('BagOfWords', str(non_zero_elements_count))"
   ]
  },
  {
   "cell_type": "markdown",
   "metadata": {},
   "source": [
    "#### TF-IDF\n",
    "\n",
    "The second approach extends the bag-of-words framework by taking into account total frequencies of words in the corpora. It helps to penalize too frequent words and provide better features space. \n",
    "\n",
    "Implement function *tfidf_features* using class [TfidfVectorizer](http://scikit-learn.org/stable/modules/generated/sklearn.feature_extraction.text.TfidfVectorizer.html) from *scikit-learn*. Use *train* corpus to train a vectorizer. Don't forget to take a look into the arguments that you can pass to it. We suggest that you filter out too rare words (occur less than in 5 titles) and too frequent words (occur more than in 90% of the titles). Also, use bigrams along with unigrams in your vocabulary. "
   ]
  },
  {
   "cell_type": "code",
   "execution_count": 24,
   "metadata": {},
   "outputs": [
    {
     "name": "stdout",
     "output_type": "stream",
     "text": [
      "['draw stacked dotplot r', 'mysql select records datetime field less specified value', 'terminate windows phone 81 app']\n"
     ]
    }
   ],
   "source": [
    "from sklearn.feature_extraction.text import TfidfVectorizer\n",
    "print(X_train[:3])"
   ]
  },
  {
   "cell_type": "code",
   "execution_count": 25,
   "metadata": {},
   "outputs": [],
   "source": [
    "def tfidf_features(X_train, X_val, X_test):\n",
    "    \"\"\"\n",
    "        X_train, X_val, X_test — samples        \n",
    "        return TF-IDF vectorized representation of each sample and vocabulary\n",
    "    \"\"\"\n",
    "    # Create TF-IDF vectorizer with a proper parameters choice\n",
    "    # Fit the vectorizer on the train set\n",
    "    # Transform the train, test, and val sets and return the result\n",
    "    \n",
    "    tfidf_vectorizer =  TfidfVectorizer(min_df=5,max_df=0.9,ngram_range=(1,2),token_pattern= '(\\S+)')#  '(\\S+)'  means any no white space\n",
    "    X_train=tfidf_vectorizer.fit_transform(X_train)\n",
    "    X_val=tfidf_vectorizer.transform(X_val)\n",
    "    X_test=tfidf_vectorizer.transform(X_test)\n",
    "    ######################################\n",
    "    ######### YOUR CODE HERE #############\n",
    "    ######################################\n",
    "    \n",
    "    return X_train, X_val, X_test, tfidf_vectorizer.vocabulary_\n",
    "\n",
    "#tfidf_vectorizer.vocabulary_ returns just index of feature"
   ]
  },
  {
   "cell_type": "markdown",
   "metadata": {},
   "source": [
    "Once you have done text preprocessing, always have a look at the results. Be very careful at this step, because the performance of future models will drastically depend on it. \n",
    "\n",
    "In this case, check whether you have c++ or c# in your vocabulary, as they are obviously important tokens in our tags prediction task:"
   ]
  },
  {
   "cell_type": "code",
   "execution_count": 26,
   "metadata": {},
   "outputs": [],
   "source": [
    "X_train_tfidf, X_val_tfidf, X_test_tfidf, tfidf_vocab = tfidf_features(X_train, X_val, X_test)\n",
    "tfidf_reversed_vocab = {i:word for word,i in tfidf_vocab.items()}"
   ]
  },
  {
   "cell_type": "code",
   "execution_count": 27,
   "metadata": {},
   "outputs": [
    {
     "name": "stdout",
     "output_type": "stream",
     "text": [
      "X_test_tfidf  (20000, 18026)\n",
      "X_val_tfidf  (30000, 18026)\n"
     ]
    }
   ],
   "source": [
    "######### YOUR CODE HERE #############\n",
    "#print(X_train_tfidf[2])\n",
    "print('X_test_tfidf ', X_test_tfidf.shape) \n",
    "print('X_val_tfidf ',X_val_tfidf.shape)\n"
   ]
  },
  {
   "cell_type": "markdown",
   "metadata": {},
   "source": [
    "If you can't find it, we need to understand how did it happen that we lost them? It happened during the built-in tokenization of TfidfVectorizer. Luckily, we can influence on this process. Get back to the function above and use '(\\S+)' regexp as a *token_pattern* in the constructor of the vectorizer.  "
   ]
  },
  {
   "cell_type": "markdown",
   "metadata": {},
   "source": [
    "Now, use this transormation for the data and check again."
   ]
  },
  {
   "cell_type": "code",
   "execution_count": 89,
   "metadata": {},
   "outputs": [
    {
     "name": "stdout",
     "output_type": "stream",
     "text": [
      "{'warning': 3994, 'expects': 1285, 'parameter': 2633, '2': 27, 'resource': 3083, 'object': 2508, 'given': 1566, 'expects parameter': 1286, 'get': 1527, 'click': 603, 'coordinates': 791, 'input': 1796, 'via': 3958, 'javascript': 1934, 'via javascript': 3960, 'implement': 1738, 'cloud': 626, 'storage': 3462, 'media': 2271, 'assets': 290, 'jquerys': 2004, 'autocomplete': 322, 'plugin': 2775, 'error': 1211, 'building': 426, 'android': 175, 'app': 210, 'cordova': 795, '31': 46, 'cli': 602, 'android app': 176, 'parse': 2642, 'xml': 4136, 'file': 1348, 'php': 2713, 'parse xml': 2647, 'xml file': 4140, 'file php': 1363, 'uploading': 3828, 'files': 1378, 'json': 2011, 'post': 2801, 'request': 3066, 'web': 4016, 'service': 3276, 'provided': 2881, 'uploading files': 3829, 'post request': 2805, 'web service': 4024, 'adding': 120, 'rows': 3145, 'jtable': 2030, 'right': 3126, 'order': 2585, 'read': 2962, 'python': 2899, 'input file': 1801, 'file python': 1364, 'pdf': 2685, 'generation': 1518, 'html': 1672, 'containing': 756, 'images': 1733, 'text': 3604, 'trying': 3708, 'sql': 3414, 'query': 2920, 'dynamic': 1116, 'jquery': 1988, 'trying get': 3709, 'sql query': 3417, 'distribution': 1046, 'data': 874, 'add': 113, 'months': 2355, 'code': 633, 'constants': 743, 'rails': 2937, '3': 44, 'application': 224, 'rails 3': 2938, 'comparing': 686, 'list': 2136, 'items': 1884, 'one': 2551, 'column': 652, 'datatable': 916, 'list items': 2137, 'one column': 2553, 'sort': 3375, 'upper': 3832, 'case': 504, 'make': 2221, 'pointer': 2781, 'multidimensional': 2369, 'array': 247, 'unknown': 3803, 'size': 3346, 'multidimensional array': 2370, 'trigger': 3698, 'ajax': 132, 'submit': 3519, 'radio': 2934, 'button': 431, 'change': 529, 'rendering': 3051, 'response': 3087, 'radio button': 2935, 'source': 3383, 'apps': 232, 'source code': 3384, 'callback': 476, 'sockets': 3368, 'linux': 2134, 'queue': 2928, 'pandas': 2626, 'window': 4067, 'based': 357, 'values': 3931, 'instead': 1832, 'wait': 3988, 'process': 2847, 'finish': 1399, 'c++': 448, 'calling': 480, 'p': 2610, 'invoke': 1858, 'woocommerce': 4092, 'cart': 502, 'total': 3678, 'number': 2495, 'declaring': 946, 'using': 3859, 'const': 740, 'integer': 1835, 'array using': 262, 'bundle': 430, 'install': 1821, 'nokogiri': 2467, 'fail': 1322, 'ninject': 2462, 'constructor': 749, 'injection': 1792, 'wpf': 4110, 'raise': 2946, 'typeerror': 3738, 'rather': 2955, 'syntaxerror': 3563, 'r': 2932, 'calculate': 462, 'tree': 3695, 'serialize': 3261, 'processing': 2849, 'value': 3916, 'dropdown': 1105, 'dropdown list': 1106, 'convert': 774, 'possible': 2799, 'iframe': 1716, 'redirect': 3000, 'parent': 2640, 'page': 2616, 'alternative': 164, 'older': 2544, 'spring': 3406, 'hibernate': 1647, 'find': 1391, 'select': 3226, 'columns': 656, 'using spring': 3891, 'spring hibernate': 3410, 'generate': 1513, 'sequence': 3257, 'left': 2097, 'set': 3287, 'header': 1631, 'name': 2413, 'xaml': 4128, 'function': 1479, 'return': 3107, 'chrome': 572, 'debugger': 938, 'javascript function': 1946, 'function return': 1493, 'return value': 3110, 'check': 552, 'value using': 3928, 'using php': 3883, 'returning': 3112, 'catch': 510, 'java': 1898, 'custom': 863, 'objects': 2528, 'sending': 3250, 'type': 3732, 'entity': 1195, 'long': 2189, 'value type': 3927, 'dynamically': 1119, 'created': 826, 'table': 3568, 'row': 3143, 'dynamically created': 1123, 'table row': 3571, 'edit': 1134, 'settings': 3300, 'eclipse': 1131, 'ide': 1704, 'eclipse ide': 1132, 'connection': 729, 'string': 3476, 'creating': 827, 'setup': 3301, 'project': 2861, 'connection string': 732, 'running': 3163, 'running php': 3164, 'php file': 2723, 'deserializing': 984, 'without': 4086, 'container': 755, 'element': 1152, 'clean': 599, 'bad': 349, 'openssl': 2572, 'copy': 792, 'existing': 1280, 'executable': 1273, 'mobile': 2325, 'swipe': 3547, 'pages': 2622, 'jquery mobile': 2000, 'udp': 3745, 'packet': 2614, 'c': 442, '#': 0, 'c #': 443, 'create': 818, 'structs': 3498, 'create array': 819, 'google': 1581, 'oauth': 2506, 'least': 2095, 'client': 614, 'installed': 1823, 'map': 2239, 'api': 205, 'v3': 3903, 'view': 3968, 'google map': 1587, 'map api': 2240, 'api v3': 208, 'easy': 1127, 'way': 3997, 'apply': 229, 'easy way': 1128, 'tkinter': 3660, 'update': 3814, 'entry': 1199, 'changed': 537, 'treeview': 3697, 'event': 1239, 'keeps': 2039, 'firing': 1406, 'ios': 1862, 'webview': 4043, 'blank': 390, 'insert': 1807, 'selected': 3231, 'position': 2796, 'document': 1067, 'passing': 2668, 'gwt': 1612, 'module': 2344, 'passing parameter': 2672, 'date': 919, 'validation': 3911, 'setting': 3298, 'new': 2449, 'creating new': 829, 'connect': 725, 'proxy': 2883, 'django': 1053, 'model': 2335, 'override': 2606, 'save': 3176, 'method': 2293, 'another': 192, 'record': 2992, 'django model': 1055, 'performance': 2693, 'difference': 1015, 'strings': 3495, 'check string': 554, 'filename': 1377, 'cant': 487, 'layout': 2084, 'border': 404, 'color': 649, 'cant change': 489, 'variable': 3937, 'line': 2114, 'chart': 550, 'line chart': 2117, 'drawing': 1099, 'outside': 2599, 'area': 239, 'wildcard': 4064, 'exception': 1261, 'names': 2415, 'components': 704, 'mean': 2267, 'valueerror': 3930, 'could': 803, 'float': 1418, '1': 17, 'convert string': 782, 'string float': 3483, 'zend': 4159, 'working': 4099, 'ajax request': 139, 'returns': 3113, 'null': 2488, 'returns null': 3115, 'user': 3848, 'info': 1778, 'loop': 2196, 'keep': 2037, 'many': 2234, 'times': 3652, 'many times': 2236, 'integrate': 1838, 'switch': 3548, 'class': 582, 'stream': 3472, 'php class': 2717, 'html table': 1684, 'ios7': 1868, 'keyboard': 2047, 'implemented': 1740, 'get data': 1530, 'data jquery': 885, 'jquery ajax': 1989, 'alternatives': 165, 'numpy': 2502, 'engine': 1186, 'google app': 1583, 'app engine': 211, 'nested': 2435, 'menu': 2283, 'ul': 3765, 'aspnet': 277, 'control': 766, 'using c': 3863, 'errno': 1210, 'reset': 3075, 'connection reset': 731, 'stdout': 3453, 'increase': 1765, 'jetty': 1970, 'heroku': 1643, 'xpath': 4146, 'properly': 2868, 'root': 3130, 'tag': 3577, 'got': 1589, 'property': 2871, 'working properly': 4105, 'use': 3841, 'avoid': 329, 'undefined': 3779, 'typeerror read': 3740, 'read property': 2967, 'format': 1450, 'remote': 3040, 'server': 3266, 'sqlite': 3420, 'database': 901, 'remote server': 3041, 'sqlite database': 3421, 'database using': 906, 'using python': 3884, 'wont': 4090, 'resize': 3076, 'jpanel': 1984, 'block': 392, 'certain': 526, 'website': 4038, 'website using': 4039, 'using java': 3873, 'httpclient': 1696, 'authorization': 320, 'headers': 1633, 'getting': 1560, 'distinct': 1045, 'href': 1670, 'ip': 1869, 'address': 124, 'ip address': 1870, 'download': 1089, 'local': 2165, 'iphone': 1872, 'commands': 672, 'simple': 3331, 'slideshow': 3352, 'navigation': 2424, 'last': 2076, 'path': 2676, 'get last': 1540, 'faster': 1330, 'learn': 2093, 'ruby': 3150, 'changing': 539, 'grab': 1591, 'everything': 1247, 'br': 410, 'binding': 384, 'combobox': 663, 'mvvm': 2400, 'visual': 3979, 'studio': 3505, 'compile': 693, 'qt': 2917, 'doesnt': 1073, 'libraries': 2109, 'visual studio': 3982, 'constraint': 744, 'failed': 1323, 'join': 1979, 'required': 3072, 'access': 88, 'nonstatic': 2472, 'member': 2272, 'problem': 2844, 'smtp': 3361, 'emails': 1165, 'sent': 3253, 'phpmailer': 2744, 'jframe': 1971, 'within': 4084, 'applet': 221, 'vice': 3963, 'versa': 3954, 'java applet': 1904, 'vice versa': 3964, 'instance': 1825, 'javascript class': 1941, 'class instance': 586, 'ok': 2542, 'cancel': 486, 'buttons': 438, 'crystal': 840, 'report': 3059, 'panel': 2628, 'crystal report': 841, 'update panel': 3815, 'xsd': 4147, 'laravel': 2067, '5': 62, 'links': 2128, 'laravel 5': 2069, 'implementing': 1741, 'transactions': 3688, 'away': 332, 'tinymce': 3657, 'toolbar': 3671, 'location': 2173, 'build': 424, 'response ajax': 3088, 'handle': 1615, 'opening': 2569, 'devise': 1008, 'stored': 3465, 'look': 2193, 'hostname': 1664, 'normal': 2473, 'dns': 1061, 'etc': 1234, 'form': 1440, 'field': 1342, 'form using': 1448, 'using javascript': 3874, 'output': 2598, 'php array': 2715, 'best': 370, 'suitable': 3532, 'structure': 3500, 'data structure': 894, 'pass': 2659, 'arguments': 243, 'bash': 359, 'script': 3201, 'pass variable': 2665, 'angularjs': 185, 'load': 2155, 'videos': 3967, 'clicking': 609, 'title': 3658, 'load images': 2158, 'display': 1037, 'full': 1475, 'dataframe': 909, 'information': 1779, 'pandas dataframe': 2627, 'maps': 2244, 'markers': 2249, 'google maps': 1588, 'space': 3385, 'separated': 3256, 'asynchronous': 302, 'processes': 2848, 'views': 3973, 'print': 2837, 'docs': 1064, 'viewer': 3971, 'open': 2561, 'cookie': 789, 'relative': 3035, 'paths': 2677, 'operator': 2578, 'fix': 1411, 'handler': 1617, 'unhandled': 3792, 'exceptions': 1268, 'flask': 1415, 'create custom': 820, 'exception handler': 1263, 'sqlite3': 3422, 'import': 1746, 'command': 668, '2d': 42, '3d': 50, 'whats': 4049, 'limit': 2113, 'mongodb': 2349, 'mongoose': 2351, 'automapper': 323, 'int': 1833, 'int array': 1834, 'enumeration': 1201, 'accept': 86, 'windows': 4070, 'phone': 2706, 'deserialize': 982, 'net': 2438, 'windows phone': 4078, 'enabled': 1173, 'default': 953, 'design': 985, 'repository': 3062, 'pattern': 2678, 'dependency': 970, 'core': 796, 'mvc': 2392, 'repository pattern': 3063, 'dependency injection': 971, 'aspnet core': 281, 'restore': 3097, 'purchase': 2887, 'functionality': 1498, 'work': 4097, 'well': 4047, 'doesnt work': 1075, 'split': 3402, 'ngrepeat': 2457, 'show': 3317, 'jquery function': 1997, 'regex': 3018, 'matching': 2256, 'capital': 497, 'characters': 546, 'numbers': 2500, 'period': 2696, 'editing': 1136, 'grid': 1599, 'kendo': 2040, 'ui': 3746, 'kendo ui': 2041, 'problems': 2845, 'jdbc': 1965, 'driver': 1101, 'found': 1459, 'using hibernate': 3871, 'hql': 1669, 'left join': 2098, 'firefox': 1404, 'ie': 1711, 'working firefox': 4103, 'missing': 2320, 'declare': 943, 'types': 3741, 'jsp': 2027, 'js': 2006, 'variables': 3945, 'log': 2177, 'item': 1881, 'maximum': 2264, 'named': 2414, 'recognition': 2989, 'sqlstate': 3423, 'lock': 2174, 'timeout': 3650, 'exceeded': 1253, 'try': 3705, 'restarting': 3095, 'transaction': 3686, 'saving': 3181, 'magento': 2212, 'share': 3304, 'public': 2884, 'key': 2044, 'encrypt': 1178, 'jvm': 2035, 'heap': 1634, 'hash': 1624, 'data binding': 875, '7': 75, 'url': 3835, 'params': 2639, 'phone 7': 2707, 'pycharm': 2894, 'drop': 1102, 'reference': 3006, 'copy constructor': 793, 'bar': 351, 'programmatically': 2856, 'swift': 3544, 'navigation bar': 2425, 'remove': 3042, 'vbnet': 3950, 'search': 3210, 'partial': 2654, 'match': 2254, 'datagridview': 912, 'textbox': 3616, 'first': 1407, 'displaying': 1041, 'datagrid': 911, 'upload': 3823, 'file upload': 1370, 'put': 2892, 'cache': 459, 'directly': 1027, 'sql server': 3418, 'implicitly': 1744, 'implicitly convert': 1745, 'convert type': 783, 'appending': 218, 'thread': 3627, 'another class': 193, 'ckeditor': 580, 'removing': 3048, 'attributes': 315, 'authentication': 319, 'occurrence': 2534, 'character': 543, 'string php': 3489, 'alphanumeric': 159, 'chars': 548, 'detect': 994, 'changes': 538, 'made': 2211, 'range': 2951, 'month': 2354, 'datepicker': 927, 'date range': 923, 'browser': 417, 'games': 1505, 'ipad': 1871, 'safari': 3171, 'button click': 433, 'template': 3591, 'handling': 1619, 'scrapy': 3197, 'could find': 805, 'stl': 3458, 'iterating': 1887, 'inserting': 1812, 'elements': 1155, 'using jquery': 3875, 'jquery validation': 2003, 'protractor': 2879, 'file path': 1362, 'draw': 1098, 'two': 3721, 'divs': 1052, 'trouble': 3702, 'ssl': 3428, 'repeating': 3054, 'construction': 748, '2d array': 43, 'array objects': 257, 'mysql': 2401, 'duplicate': 1111, 'mysql php': 2406, 'delete': 963, 'blob': 391, 'multiple': 2373, 'tables': 3574, 'single': 3341, 'procedure': 2846, 'data multiple': 887, 'multiple tables': 2383, 'stored procedure': 3466, 'need': 2429, 'active': 104, 'directory': 1029, 'active directory': 105, 'embed': 1166, 'applications': 227, 'dlls': 1060, 'inside': 1814, 'exe': 1271, 'converting': 786, 'datetime': 929, 'converting string': 788, 'string date': 3482, 'reverse': 3118, 'words': 4096, 'pointers': 2783, 'arrays': 268, 'ember': 1168, 'serializing': 3264, 'id': 1703, 'constant': 742, 'void': 3984, 'iterate': 1886, 'textboxes': 3618, 'write': 4118, 'parse string': 2646, 'string python': 3490, 'soap': 3363, 'checking': 563, 'padding': 2615, 'sender': 3249, 'email': 1162, 'instantiated': 1831, 'cygwin': 870, 'fails': 1326, 'loading': 2161, 'shared': 3305, 'file directory': 1353, 'webdriver': 4032, 'pop': 2789, 'alert': 143, 'resolve': 3080, 'migration': 2311, 'uncaught': 3772, 'referenceerror': 3009, 'onload': 2559, 'uncaught referenceerror': 3775, 'prefix': 2817, '0': 15, 'zero': 4161, 'serialized': 3262, 'functions': 1499, 'args': 240, 'function python': 1491, 'linq': 2129, 'linq query': 2131, 'win32': 4066, 'console': 736, 'printf': 2840, 'allow': 153, 'numeric': 2501, 'sortable': 3378, 'html form': 1678, 'recursive': 2997, 'assert': 288, 'keyword': 2051, 'retrieve': 3103, 'contains': 757, 'using r': 3885, 'login': 2184, 'mvc4': 2399, 'login using': 2187, 'using aspnet': 3862, 'uploads': 3830, 'folder': 1425, 'password': 2674, 'field value': 1345, 'video': 3965, 'play': 2765, 'video file': 3966, 'configure': 719, 'day': 930, 'count': 809, 'dates': 928, 'two dates': 3723, 'calculating': 463, 'sum': 3534, 'execute': 1274, 'startup': 3437, 'token': 3666, 'issue': 1879, 'virtual': 3975, 'count number': 810, 'table using': 3572, 'mock': 2327, 'n': 2412, 'one line': 2554, 'pixel': 2757, 'level': 2104, 'graphics': 1596, 'drop menu': 1104, 'invalid': 1856, 'could load': 807, 'models': 2339, 'null values': 2492, 'aws': 333, 'static': 3441, 'image': 1724, 'momentjs': 2347, 'format date': 1451, 'date using': 926, 'modelform': 2338, 'manytomany': 2237, 'iterators': 1890, 'optimization': 2579, 'primefaces': 2836, 'filtering': 1388, 'example': 1250, 'causes': 517, 'crash': 815, 'option': 2580, 'per': 2690, 'group': 1603, 'extract': 1309, 'tags': 3578, 'add custom': 114, 'html tags': 1686, 'reading': 2971, 'memory': 2277, 'byte': 439, 'byte array': 440, 'h2': 1613, 'unable': 3766, 'fully': 1478, 'theme': 3622, 'call': 468, 'call function': 469, 'making': 2225, 'aspnet application': 278, 'test': 3600, 'devices': 1007, 'showing': 3319, 'simulator': 3338, 'portable': 2795, 'debug': 937, 'release': 3037, 'c c++': 444, 'way detect': 4001, 'background': 342, 'according': 96, 'jquery change': 1991, 'change background': 530, 'background color': 343, 'overloading': 2605, 'set default': 3289, 'scroll': 3204, 'page using': 2621, 'library': 2110, 'hosting': 1663, 'function working': 1497, 'plotting': 2774, 'plot': 2772, 'purpose': 2889, 'style': 3509, 'double': 1087, 'overflow': 2601, 'prepare': 2820, 'outlook': 2597, 'defined': 957, 'jasmine': 1896, 'tests': 3603, 'coffeescript': 644, 'error running': 1225, 'less': 2101, 'sliding': 3353, 'animation': 188, 'audio': 316, 'recording': 2993, 'libgdx': 2108, 'carousel': 501, 'jquery ui': 2002, 'extracting': 1310, 'vb': 3947, 'replace': 3055, 'quotes': 2931, 'x': 4124, 'syntax': 3561, 'attempt': 309, 'null object': 2489, 'object reference': 2518, 'modify': 2342, 'already': 160, 'already sent': 162, 'controller': 767, 'ms': 2363, 'mono': 2353, 'extjs': 1307, 'content': 758, 'nsurl': 2486, 'warnings': 3995, 'inject': 1789, 'annotation': 189, 'returned': 3111, '+': 14, 'mvc 2': 2393, 'json javascript': 2016, 'different': 1019, 'action': 102, 'builds': 427, 'change color': 532, 'uicollectionview': 3749, 'cells': 523, 'equivalent': 1208, 'drive': 1100, 'sdk': 3209, 'google drive': 1586, 'code using': 638, 'cakephp': 461, 'xcode': 4131, 'terminating': 3598, 'due': 1110, 'uncaught exception': 3774, 'uiscrollview': 3756, 'symfony2': 3557, 'doctrine': 1065, 'conditions': 715, 'executing': 1277, 'gives': 1567, 'fields': 1346, 'sessions': 3286, 'security': 3220, 'dont': 1082, 'understand': 3788, 'regular': 3028, 'expression': 1296, 'valid': 3907, 'charset': 549, 'regular expression': 3029, 'framework': 1465, 'giving': 1568, 'underlying': 3785, 'provider': 2882, 'entity framework': 1196, 'looking': 2194, 'spreadsheet': 3405, 'hidden': 1648, 'error cant': 1214, 'positive': 2798, 'negative': 2434, 'java check': 1906, 'optional': 2581, 'express': 1295, 'route': 3137, 'pivot': 2756, 'time': 3646, 'current': 857, 'current time': 859, 'complete': 700, 'function c++': 1482, 'assign': 291, 'scope': 3196, 'cause': 515, 'backgroundworker': 346, 'rsa': 3146, 'overlay': 2602, 'maps api': 2245, 'throws': 3641, 'finding': 1397, 'array php': 258, '32': 47, 'spring mvc': 3411, 'longest': 2191, 'substring': 3527, 'passed': 2666, 'substring string': 3528, 'random': 2948, 'csv': 847, 'values column': 3933, 'capistrano': 496, 'deploying': 975, 'log4j': 2179, 'configuration': 717, 'configuration file': 718, 'nan': 2419, 'directive': 1026, 'wordpress': 4095, 'thumbnail': 3643, 'letters': 2103, 'indexed': 1772, 'attribute': 312, 'attribute value': 313, 'shows': 3320, 'result': 3100, 'behind': 369, 'start': 3432, 'hide': 1649, 'best way': 373, 'gdb': 1510, 'program': 2854, 'widget': 4060, 'new window': 2452, 'browser window': 420, 'profile': 2853, 'selenium': 3240, 'ie8': 1713, 'anchor': 173, 'taking': 3583, 'onclick': 2548, 'osx': 2595, 'mysqli': 2411, 'results': 3101, 'something': 3373, 'else': 1160, 'generates': 1516, 'wrong': 4121, 'correct': 799, 'frameworks': 1469, 'shorthand': 3316, 'equal': 1206, 'statement': 3439, 'multiple variables': 2387, 'duplicates': 1114, 'remove duplicates': 3044, 'css': 844, 'popup': 2792, 'disabled': 1032, 'html css': 1673, 'popup window': 2793, 'skip': 3348, 'back': 337, 'rest': 3090, 'main': 2215, 'line text': 2118, 'text file': 3609, 'file read': 1365, 'c++ class': 450, 'class method': 588, '60': 71, 'include': 1756, 'include php': 1757, 'php script': 2736, 'runtime': 3166, 'runtime error': 3167, 'use multiple': 3845, 'aspnet mvc': 282, 'things': 3624, 'rewrite': 3119, 'indexphp': 1774, 'except': 1260, 'com': 657, 'dll': 1059, 'registered': 3024, 'send': 3245, 'receive': 2985, 'mail': 2213, 'native': 2420, 'mail using': 2214, 'system': 3565, 'os': 2593, 'svg': 3542, 'http': 1692, 'textfield': 3619, 'objectivec': 2525, 'angular': 181, 'uiwebview': 3764, 'works': 4106, 'fine': 1398, 'versions': 3956, 'ios 7': 1864, 'works fine': 4107, 'network': 2447, 'programming': 2857, 'using c++': 3864, 'node': 2463, 'get selected': 1547, 'delegates': 962, 'oop': 2560, 'outside class': 2600, 'uipickerview': 3755, 'merge': 2285, 'word': 4093, 'documents': 1072, 'office': 2539, 'generic': 1520, 'interface': 1846, '# application': 1, 'attachment': 307, 'codeigniter': 641, 'php mail': 2730, 'labels': 2061, 'histogram': 1658, 'ggplot2': 1563, 'able': 82, 'session': 3282, 'online': 2558, 'session variable': 3284, 'align': 147, 'label': 2059, 'vertical': 3957, 'center': 524, '6': 70, 'xcode 6': 4132, 'icon': 1701, 'gridview': 1601, 'cell': 521, 'cuda': 851, 'classes': 593, 'validate': 3908, 'use php': 3846, 'drop list': 1103, 'local variable': 2166, 'variable method': 3940, 'html page': 1681, 'putting': 2893, 'pixels': 2758, 'yii2': 4154, 'inline': 1793, 'helper': 1641, 'simplexml': 3335, 'breaks': 415, 'line breaks': 2116, 'says': 3183, 'resolved': 3081, 'fixed': 1412, 'number rows': 2499, 'verify': 3953, 'smtp server': 3362, 'accesscontrolalloworigin': 91, 'php mysql': 2731, 'data database': 876, 'usage': 3839, 'unicode': 3794, 'powershell': 2812, 'typed': 3737, 'partial view': 2655, 'detecting': 996, 'php session': 2738, 'dimensional': 1022, 'dimensional array': 1023, 'dataset': 914, 'clear': 600, 'servlet': 3280, 'paste': 2675, 'contents': 759, 'kernel': 2043, 'overriding': 2607, 'abstract': 84, 'methods': 2305, 'https': 1697, 'infinite': 1776, 'php redirect': 2734, 'infinite loop': 1777, 'transition': 3691, 'd3js': 873, 'filter': 1387, 'specify': 3398, 'support': 3538, 'append': 217, 'json file': 2015, 'windows form': 4075, 'cell value': 522, 'fatal': 1333, 'compiling': 699, 'fatal error': 1334, 'else statement': 1161, 'clickonce': 612, 'packages': 2613, 'lazy': 2086, 'lazy loading': 2088, 'async': 300, 'await': 331, 'contain': 753, 'extension': 1302, 'async await': 301, 'string contain': 3480, 'android studio': 180, 'item array': 1882, 'prevent': 2829, 'bindings': 385, 'always': 166, 'always returns': 167, 'city': 579, 'maven': 2261, 'point': 2780, 'initialize': 1785, 'char': 540, 'char array': 541, 'array c': 248, 'store': 3463, 'postgresql': 2809, 'duplicated': 1113, 'unexpected': 3790, 'argument': 241, 'axis2': 335, 'concurrent': 711, 'requests': 3070, 'mismatch': 2319, 'retrofit': 3106, 'also': 163, 'google chrome': 1585, 'section': 3218, 'uitableview': 3757, 'get current': 1529, 'asp': 274, 'question': 2926, 'form submit': 1447, 'array list': 255, 'list objects': 2140, 'file windows': 1374, 'localization': 2169, 'mixed': 2321, 'datatables': 917, 'getting error': 1561, 'undefined function': 3780, 'exec': 1272, 'asynchronously': 303, 'dialog': 1009, 'call javascript': 471, 'nginx': 2456, 'subdirectory': 3513, 'div': 1047, 'dropdown menu': 1107, 'div using': 1050, 'using ajax': 3860, 'jni': 1976, 'measure': 2269, 'ignore': 1718, 'certificate': 527, 'started': 3434, 'understanding': 3789, 'c function': 446, 'function call': 1483, 'data mysql': 888, 'mysql table': 2409, 'struct': 3496, 'recursive function': 2998, 'following': 1428, 'safe': 3172, 'thread safe': 3629, 'specified': 3397, 'exception thread': 1265, 'thread main': 3628, 'objectreference': 2526, 'objectreference set': 2527, 'set instance': 3290, 'instance object': 1827, 'multithreaded': 2389, 'foreach': 1435, 'foreach loop': 1436, 'using multiple': 3880, 'assemblies': 286, 'webconfig': 4031, 'run': 3157, 'eval': 1236, 'javascript code': 1942, 'jaxb': 1961, 'intercept': 1845, 'mvc 3': 2394, 'collection': 646, 'type object': 3735, 'utf8': 3898, 'underscore': 3786, 'amazon': 168, 'relationship': 3034, 'controllers': 770, 'description': 980, 'errors': 1231, 'jinja2': 1972, 'parsing': 2650, 'knowing': 2057, 'indexes': 1773, 'parsing json': 2651, 'json c': 2013, 'provide': 2880, 'codes': 642, 'get list': 1541, 'offline': 2540, 'internet': 1851, 'ruby rails': 3152, 'encoded': 1175, 'take': 3580, 'screenshot': 3200, 'part': 2653, 'take screenshot': 3581, 'elegant': 1150, 'solution': 3370, 'properties': 2869, 'glassfish': 1570, 'tomcat': 3667, 'disable': 1031, 'saved': 3180, 'across': 100, 'session variables': 3285, 'across multiple': 101, 'multiple pages': 2379, 'loaded': 2159, 'phantomjs': 2705, 'login page': 2186, 'using selenium': 3890, 'selenium webdriver': 3241, 'constructors': 750, 'jsonnet': 2024, 'realtime': 2982, 'push': 2890, 'pull': 2886, 'redis': 3003, 'nodejs': 2465, 'unsigned': 3809, 'solr': 3369, 'layouts': 2085, 'gallery': 1503, 'environment': 1203, 'command line': 670, 'environment variable': 1204, 'variable php': 3942, 'define': 956, 'way set': 4010, 'set value': 3292, 'explorer': 1292, 'facebook': 1314, 'clearing': 601, 'site': 3344, 'facebook api': 1315, 'validating': 3910, 'jar': 1893, 'starting': 3435, 'jar file': 1894, 'rspec': 3147, 'received': 2986, 'importing': 1754, 'bean': 362, 'dragging': 1097, 'mouse': 2357, 'html5': 1689, 'canvas': 495, 'html5 canvas': 1690, 'jpg': 1986, 'png': 2778, '4': 51, 'digits': 1021, 'determine': 998, 'ascii': 272, 'may': 2265, 'routing': 3141, 'parameters': 2638, 'global': 1571, 'global variables': 1573, 'standard': 3431, '8': 76, 'firebug': 1403, 'practice': 2813, 'best practice': 371, 'boxes': 409, 'switch statement': 3550, 'graph': 1594, 'generated': 1515, 'scrolling': 3208, 'singleton': 3343, 'initialization': 1784, 'exit': 1282, 'buffer': 422, 'correct way': 800, 'package': 2612, 'commandline': 671, 'dependencies': 969, 'using maven': 3879, 'retrieving': 3105, 'common': 677, 'counter': 811, 'param': 2632, 'compact': 680, '40': 52, 'visibility': 3977, 'type parameter': 3736, 'remove first': 3046, 'first character': 1408, 'character string': 545, 'need use': 2432, 'mysql query': 2407, 'empty': 1170, 'appengine': 219, '12': 21, 'absolute': 83, 'use javascript': 3843, 'javascript variable': 1958, 'deploy': 973, 'attach': 305, 'management': 2229, '2012': 34, 'winform': 4081, 'studio 2012': 3508, 'render': 3050, 'rails server': 2944, 'cron': 833, 'centos': 525, 'vector': 3951, 'cant access': 488, 'equivalent c': 1209, 'opencv': 2566, 'force': 1433, 'appear': 214, 'top': 3675, 'reflection': 3012, 'codebehind': 639, 'md5': 2266, 'opened': 2567, 'pythons': 2916, 'pil': 2751, 'begin': 365, 'large': 2073, 'src': 3426, 'specific': 3394, 'beautifulsoup': 364, 'wxpython': 4123, 'phonegap': 2711, 'submit form': 3521, 'form data': 1441, 'files using': 1382, 'single element': 3342, 'input field': 1799, 'failing': 1325, 'autowired': 326, 'wrapper': 4116, '# c++': 3, 'c++ cli': 451, 'perform': 2692, 'focus': 1424, 'swing': 3546, 'parent window': 2641, 'windowopen': 4069, 'javascript call': 1939, 'static variable': 3446, 'serial': 3258, 'port': 2794, 'serial port': 3259, 'header file': 1632, 'file c': 1351, 'xmlhttprequest': 4143, 'storing': 3467, 'initializer': 1787, 'format string': 1452, 'pass parameter': 2663, 'frame': 1463, 'installation': 1822, 'scipy': 3195, 'matplotlib': 2259, 'resizing': 3078, 'located': 2172, 'going': 1576, 'forms': 1456, 'meta': 2290, 'exclude': 1270, 'widgets': 4061, 'vectors': 3952, 'perl': 2697, 'generating': 1517, 'decrypt': 950, 'resources': 3085, 'assembly': 287, 'wpf application': 4111, 'active record': 106, 'rid': 3125, 'place': 2759, 'cursor': 862, '2010': 33, 'editor': 1137, 'cant get': 491, 'get rid': 1546, 'studio 2010': 3507, 'updating': 3820, 'using swift': 3894, 'component': 703, 'java method': 1917, 'highlighting': 1657, 'fluent': 1422, 'nhibernate': 2458, 'fluent nhibernate': 1423, 'average': 328, 'webpack': 4035, 'environment variables': 1205, 'find replace': 1394, 'automatically': 325, 'read data': 2964, 'echo': 1130, 'php echo': 2721, 'consume': 751, 'webapi': 4026, 'mvc controller': 2397, 'ordering': 2587, 'invoking': 1859, 'wcf': 4013, 'wcf service': 4015, 'mysql database': 2403, 'variable name': 3941, 'hiding': 1651, 'angular js': 183, 'php javascript': 2727, 'examples': 1251, 'bind': 383, 'menu item': 2284, 'hashtable': 1629, 'without using': 4088, 'save file': 3177, 'file input': 1357, 'data variable': 900, 'variable javascript': 3939, 'azure': 336, 'way use': 4011, 'windows forms': 4076, 'comes': 664, 'matrix': 2260, 'incorrect': 1764, 'statements': 3440, 'jpa': 1983, 'users': 3857, 'logged': 2180, 'memory usage': 2282, 'java 8': 1900, 'load file': 2157, 'file assembly': 1350, 'td': 3589, 'link': 2120, 'main thread': 2218, 'accessor': 95, 'must': 2391, 'automatic': 324, 'refresh': 3013, 'div element': 1048, 'page jquery': 2618, 'adonet': 127, 'version': 3955, '9': 78, 'set cookie': 3288, 'animated': 187, 'next': 2455, 'click button': 604, 'break': 413, 'middle': 2309, 'callback function': 477, 'postgres': 2808, 'randomly': 2950, 'stopped': 3460, 'class function': 585, 'function another': 1480, 'groups': 1606, 'display data': 1038, 'data json': 886, 'converter': 785, 'domain': 1079, 'data one': 889, 'products': 2852, 'date object': 921, 'object java': 2514, 'query php': 2922, 'series': 3265, 'excel': 1254, 'manipulation': 2232, 'zoom': 4166, 'larger': 2075, 'webpage': 4036, 'winrt': 4083, 'class library': 587, 'ef': 1140, 'vs': 3985, 'typescript': 3742, 'validation working': 3914, 'mocking': 2328, 'phpunit': 2747, 'job': 1977, 'cron job': 834, 'send email': 3247, 'populate': 2790, 'html input': 1679, 'transparent': 3694, 'using loop': 3877, 'relation': 3032, 'either': 1146, 'instagram': 1820, '100': 19, 'curl': 852, 'using curl': 3867, 'curl php': 853, 'column using': 655, 'publish': 2885, 'webkit': 4034, 'browsers': 421, 'queries': 2919, 'one php': 2555, 'column name': 653, 'excel file': 1256, 'file using': 1371, 'php codeigniter': 2719, 'fopen': 1431, 'matlab': 2258, 'wsdl': 4122, 'couldnt': 808, 'deleting': 967, 'pdo': 2689, 'multiple rows': 2381, 'php pdo': 2733, 'terms': 3599, 'exists': 1281, 'clone': 620, 'leaks': 2092, 'memory leaks': 2281, 'hyperlink': 1700, 'spaces': 3386, 'querying': 2924, 'sqlalchemy': 3419, 'credentials': 831, 'integers': 1837, 'data html': 881, 'web page': 4021, 'form validation': 1449, 'jersey': 1969, 'developing': 1003, 'modules': 2346, 'ubuntu': 3744, 'rvm': 3168, 'constructing': 747, 'sends': 3252, 'web app': 4018, 'multiline': 2371, 'mode': 2334, 'empty string': 1171, 'create table': 825, 'syntax error': 3562, 'adding custom': 121, 'custom control': 865, 'tab': 3567, 'nomethoderror': 2468, 'special': 3390, 'symbols': 3554, 'using regular': 3888, 'java script': 1921, 'particular': 2656, 'windows 8': 4073, 'mvc 5': 2396, 'c++11': 458, 'compilation': 691, 'issues': 1880, 'send json': 3248, 'json object': 2017, 'bool': 397, 'file_exists': 1375, 'safety': 3174, 'asynctask': 304, 'threadsafe': 3633, 'stdstring': 3454, 'iterator': 1889, 'nsstring': 2485, 'true': 3703, 'unrecognized': 3806, 'selector': 3237, 'unrecognized selector': 3807, '11': 20, 'unable get': 3769, 'get property': 1544, 'null reference': 2491, 'get page': 1542, 'obtain': 2531, 'rss': 3148, 'stop': 3459, 'know': 2056, 'screen': 3198, 'sinatra': 3340, 'transfer': 3689, 'webbrowser': 4028, 'grouping': 1605, 'counting': 812, 'javascript using': 1957, 'ios 6': 1863, 'storyboard': 3468, 'run jar': 3159, 'string c': 3478, '# get': 6, 'java application': 1905, 'mapping': 2243, 'stdvector': 3455, 'visible': 3978, '81': 77, 'selected item': 3232, 'phone 81': 2709, 'fire': 1401, 'backbonejs': 340, 'websockets': 4041, 'triggering': 3700, 'events': 1244, 'array java': 253, 'controls': 771, 'javascript script': 1956, 'script tag': 3202, 'php code': 2718, 'doxygen': 1093, 'documentation': 1069, 'closure': 625, 'double quotes': 1088, 'data using': 899, 'uiview': 3762, 'uiimage': 3750, 'three': 3634, 'sublime': 3515, 'sublime text': 3516, 'positions': 2797, 'greater': 1598, 'css js': 846, 'end': 1182, 'sentence': 3254, 'comma': 666, 'angular 2': 182, 'launch': 2082, 'developer': 1002, 'expected': 1284, 'argument type': 242, 'successfully': 3531, 'connecting': 728, 'mssql': 2366, 'together': 3664, 'twitter': 3719, 'clipboard': 619, 'user input': 3852, 'apache': 203, 'poi': 2779, 'comment': 674, 'apache poi': 204, 'howto': 1668, 'whole': 4057, 'triggered': 3699, 'animate': 186, 'horizontal': 1661, 'offset': 2541, 'implementation': 1739, 'rest api': 3091, 'uinavigationbar': 3754, 'later': 2078, 'dictionary': 1013, 'decimal': 940, 'user defined': 3850, 'c++ java': 455, 'tcp': 3588, 'origin': 2590, 'youtube': 4155, 'javafx': 1929, 'youtube video': 4156, 'es6': 1232, 'bytes': 441, 'slower': 3355, 'w': 3987, 'square': 3424, 'error python': 1223, 'immediately': 1736, 'disappear': 1034, 'chrome extension': 573, '30': 45, 'newline': 2454, 'clicked': 608, 'button clicked': 434, 'intellij': 1841, 'artifact': 269, 'included': 1758, 'circular': 578, 'uncaught syntaxerror': 3776, 'syntaxerror unexpected': 3564, 'javascript runtime': 1955, 'error object': 1221, 'aspnet c': 280, 'jackson': 1892, 'private': 2843, 'encryption': 1181, 'undefined method': 3782, 'filling': 1386, 'listview': 2152, 'confusion': 724, 'max': 2263, 'decode': 947, 'http post': 1693, 'post data': 2802, 'data java': 882, 'euler': 1235, 'body': 395, 'symbol': 3553, 'string array': 3477, 'raphael': 2953, 'bold': 396, 'json string': 2021, 'reactjs': 2961, 'state': 3438, 'winforms': 4082, 'assigning': 293, 'derived': 978, 'derived class': 979, 'txt': 3730, 'txt file': 3731, 'fixing': 1413, 'notice': 2475, 'undefined variable': 3784, 'width': 4062, 'lose': 2202, 'player': 2767, 'java class': 1907, 'conditional': 713, 'c code': 445, 'plugins': 2776, 'pass data': 2661, 'jsp page': 2028, 'zip': 4163, '52': 68, 'zip file': 4164, 'laravel 52': 2071, 'desktop': 988, 'nullpointerexception': 2494, 'admin': 126, 'gem': 1511, 'dom': 1077, 'parse html': 2644, 'idea': 1705, 'stack': 3429, 'intellij idea': 1842, 'execution': 1278, 'assignment': 294, 'pairs': 2625, 'fragment': 1462, 'remove empty': 3045, 'populating': 2791, 'second': 3216, 'selection': 3236, 'using css': 3866, 'use jquery': 3844, 'rails 4': 2940, 'parameterized': 2637, 'rule': 3155, 'file java': 1358, 'unsupported': 3811, 'operand': 2573, 'operand type': 2574, 'quick': 2929, 'splitting': 3404, 'lines': 2119, 'uitableviewcell': 3758, 'gesture': 1526, 'overload': 2603, 'linker': 2126, 'error undefined': 1228, 'undefined reference': 3783, 'two objects': 3727, 'merge two': 2286, 'replacing': 3058, 'several': 3302, 'scripts': 3203, 'sub': 3511, 'length': 2100, 'fit': 1410, 'javadoc': 1928, 'attached': 306, 'could found': 806, 'base': 354, 'called': 479, 'filters': 1389, 'possible use': 2800, 'page another': 2617, 'another page': 198, 'ionic': 1861, 'side': 3322, 'javascript alert': 1936, 'enum': 1200, 'generic method': 1522, 'key value': 2046, 'utf8 characters': 3899, 'illegal': 1722, 'forward': 1458, 'tools': 3673, 'rectangle': 2995, 'resource id': 3084, 'executed': 1276, 'nodes': 2466, 'device': 1006, 'communication': 679, 'server android': 3268, 'injected': 1790, 'exchange': 1269, 'shell': 3310, '41': 59, 'see': 3221, 'appconfig': 213, 'percentage': 2691, 'year': 4150, 'date php': 922, 'raw': 2956, 'gcc': 1508, '45': 61, 'htaccess': 1671, 'mod_rewrite': 2330, 'caching': 460, 'file exists': 1355, 'mac': 2207, 'cant find': 490, 'mac os': 2208, 'os x': 2594, 'good': 1578, 'good practice': 1579, 'practices': 2814, 'best practices': 372, 'onchange': 2546, 'manually': 2233, 'onchange event': 2547, 'drag': 1094, 'richfaces': 3123, 'drag drop': 1095, 'hide show': 1650, 'string variable': 3494, 'js function': 2009, 'function inside': 1484, 'inside function': 1818, 'line arguments': 2115, 'move': 2360, 'inherited': 1782, 'shuffle': 3321, 'inconsistent': 1763, 'clause': 598, 'value null': 3922, 'tooltip': 3674, 'needed': 2433, 'orderby': 2586, 'big': 376, 'want': 3992, 'compare': 681, 'ascending': 270, 'sort array': 3376, 'ascending order': 271, 'object class': 2512, 'loop java': 2198, 'fetch': 1339, 'analytics': 172, 'google analytics': 1582, 'inheritance': 1781, 'reloading': 3039, 'alphabetically': 158, 'serializer': 3263, 'ssh': 3427, 'accessing': 94, 'excel spreadsheet': 1258, 'modal': 2332, 'closing': 624, 'postback': 2807, 'box': 408, 'pdf file': 2686, 'removed': 3047, 'querystring': 2925, 'struts2': 3503, 'seconds': 3217, 'hhmmss': 1646, 'python convert': 2903, 'fullscreen': 1477, 'class variables': 592, 'anonymous': 191, 'number arguments': 2496, 'extends': 1301, 'increment': 1767, 'even': 1237, 'internet explorer': 1852, 'ajax response': 140, 'like': 2112, 'something like': 3374, 'yaml': 4149, 'parser': 2649, 'add remove': 118, 'code behind': 634, 'swap': 3543, 'prepared': 2821, 'phpmyadmin': 2745, 'csv file': 849, 'ajax json': 136, 'json data': 2014, 'collision': 648, 'detection': 997, 'sprite': 3413, 'click event': 605, 'anyone': 201, 'enter': 1190, 'pressed': 2827, 'button pressed': 435, 'get value': 1552, 'options': 2582, 'display image': 1039, 'select box': 3227, 'help': 1640, 'bound': 406, '2008': 32, 'server 2008': 3267, 'javascript jquery': 1949, 'core data': 797, 'cast': 507, 'android java': 178, 'sign': 3324, 'groovy': 1602, 'function java': 1485, 'wpf datagrid': 4112, 'data table': 896, 'wrap': 4114, 'suite': 3533, 'condition': 712, 'symfony': 3556, 'need call': 2430, 'variable using': 3944, 'liferay': 2111, 'every': 1245, 'bars': 353, 'bar chart': 352, 'import error': 1749, 'exporting': 1294, 'success': 3530, 'ajax success': 141, 'hello': 1638, 'world': 4108, 'hello world': 1639, 'server side': 3272, 'synchronous': 3560, 'bootstrap': 401, 'uncaught typeerror': 3777, 'typeerror object': 3739, 'object object': 2517, 'ruby gem': 3151, 'updatepanel': 3818, 'repeater': 3053, 'testng': 3602, 'notification': 2476, 'php get': 2725, 'includes': 1759, 'doesnt support': 1074, 'property method': 2872, 'find element': 1392, 'dot': 1085, 'eg': 1145, 'php regex': 2735, 'database table': 905, 'built': 428, 'read write': 2969, 'using vbnet': 3897, 'markdown': 2247, 'cocoa': 631, 'throwing': 3639, 'connected': 727, 'task': 3585, 'parallel': 2630, 'makefile': 2223, 'api using': 207, 'speed': 3400, 'tool': 3670, 'unique': 3796, 'namespace': 2416, 'declared': 944, 'cocos2d': 632, 'projects': 2863, 'rake': 2947, 'runs': 3165, 'another controller': 194, 'http request': 1694, 'machine': 2209, 'floats': 1421, 'correctly': 801, 'gui': 1609, 'toolkit': 3672, 'open source': 2564, 'localhost': 2168, 'language': 2065, 'weird': 4046, 'encoding': 1176, 'json_encode': 2022, 'message': 2287, 'exist': 1279, 'error message': 1220, 'spring security': 3412, 'java android': 1901, 'cs': 842, 'composer': 705, 'null pointer': 2490, 'pointer exception': 2782, 'non': 2469, 'bin': 377, 'serialization': 3260, 'child': 565, 'camera': 485, 'socket': 3364, 'continuous': 764, 'socket programming': 3366, 'twig': 3717, 'threads': 3632, 'external': 1305, 'urls': 3838, 'webbrowser control': 4029, 'emberjs': 1169, 'prepared statement': 2822, 'gmail': 1574, 'picker': 2748, 'deployed': 974, 'web application': 4019, 'occurred': 2533, 'error occurred': 1222, 'using variable': 3896, 'selectors': 3239, 'ndk': 2426, 'android ndk': 179, 'java code': 1908, 'iis': 1721, '500': 64, 'microsoft': 2308, 'capture': 498, 'keys': 2049, 'array values': 264, 'permission': 2698, 'run php': 3161, 'stdin': 3451, 'reading data': 2972, 'oracle': 2583, 'unity3d': 3801, 'using linq': 3876, 'services': 3278, 'pause': 2680, 'data form': 879, 'datarow': 913, 'namespaces': 2417, 'declaration': 941, 'records': 2994, 'preg_match': 2818, 'onetoone': 2557, 'sql injection': 3416, 'lambda': 2062, 'lambda expression': 2063, 'dynamic table': 1118, 'table view': 3573, 'twice': 3716, 'opening file': 2570, 'highcharts': 1654, 'upgrading': 3822, 'iteration': 1888, 'submenu': 3517, 'clicking link': 611, 'import csv': 1747, 'csv data': 848, 'django admin': 1054, 'callable': 475, 'preferred': 2816, 'get url': 1550, 'identity': 1709, 'allocation': 152, 'memory allocation': 2278, 'moq': 2356, 'listbox': 2144, 'individual': 1775, 'logging': 2181, 'clicks': 613, 'event handler': 1241, 'height': 1636, 'uwp': 3902, 'accessed': 92, 'rails controller': 2943, 'round': 3135, 'nearest': 2428, 'front': 1472, 'major': 2220, 'differences': 1018, 'still': 3457, 'original': 2591, 'none': 2470, 'please': 2770, 'streaming': 3473, 'points': 2784, 'fastest': 1331, 'fastest way': 1332, 'way find': 4002, 'jaxrs': 1962, 'linked': 2123, 'lists': 2150, 'persistent': 2703, 'registration': 3025, 'unity': 3800, 'builder': 425, 'interface builder': 1847, 'checkbox': 558, 'php web': 2741, 'web services': 4025, 'specific columns': 3395, 'promise': 2864, 'text input': 3611, 'input value': 1804, 'formatting': 1455, 'alignment': 148, 's3': 3170, 'amazon s3': 169, 'eloquent': 1159, 'laravel eloquent': 2072, 'cookies': 790, 'cant set': 493, 'basic': 360, 'windows 7': 4072, 'messages': 2288, 'delegate': 961, 'jstl': 2029, 'codefirst': 640, 'definition': 959, 'schema': 3193, 'track': 3683, 'translate': 3692, 'hierarchy': 1652, 'odata': 2537, 'require': 3071, 'index': 1769, 'selecting': 3235, 'index range': 1770, 'destructor': 992, 'error reading': 1224, 'xml element': 4139, 'd3': 872, 'sorting': 3380, 'struct c': 3497, 'viewmodel': 3972, 'closed': 622, 'g': 1500, 'takes': 3582, 'inner': 1794, 'unit': 3797, 'global variable': 1572, 'variable set': 3943, 'ajax call': 133, 'calling c': 481, 'data sql': 893, 'sql database': 3415, 'happens': 1621, 'server using': 3273, 'create dynamic': 821, 'jenkins': 1968, 'html file': 1677, 'status': 3447, '404': 56, 'submitting': 3522, 'http status': 1695, 'submitting form': 3523, 'celery': 520, '10': 18, 'windows 10': 4071, 'datatype': 918, 'javalangnoclassdeffounderror': 1932, 'fill': 1385, 'grid view': 1600, 'context': 761, 'directory java': 1030, 'field names': 1343, 'legend': 2099, 'extended': 1299, 'class using': 591, 'terminal': 3596, 'c++ code': 452, 'browser using': 419, 'turn': 3714, 'initialized': 1786, '_get': 79, '_post': 80, 'explicit': 1289, 'show hide': 3318, 'crossdomain': 837, 'firebase': 1402, 'multiprocessing': 2388, 'auto': 321, 'timestamps': 3654, 'declarative': 942, 'many relationship': 2235, 'recursion': 2996, 'game': 1504, 'sorted': 3379, 'onclick event': 2549, 'nil': 2460, 'background process': 345, 'page load': 2619, 'moving': 2361, 'chosen': 571, 'apk': 209, 'jdk': 1967, 'unable set': 3771, 'value variable': 3929, 'binary': 378, 'datasource': 915, 'uitableviewcontroller': 3759, 'proper': 2866, 'xib': 4135, 'proper way': 2867, 'font': 1429, 'pydev': 2895, 'cant import': 492, 'threejs': 3635, 'architecture': 236, 'twitter bootstrap': 3720, 'unchecked': 3778, 'primary': 2833, 'referenced': 3008, 'primary key': 2834, 'file web': 1373, 'web server': 4023, 'defining': 958, 'config': 716, 'uibutton': 3748, 'uilabel': 3753, 'substitution': 3526, 'python dictionary': 2905, 'commit': 676, 'drupal': 1109, 'hex': 1644, 'swt': 3552, 'listener': 2146, 'desktop application': 989, 'hour': 1665, 'algorithm': 144, 'mixing': 2322, 'elements array': 1156, 'array elements': 251, 'segmentation': 3223, 'fault': 1335, 'segmentation fault': 3224, 'aspnet button': 279, 'crashes': 816, 'python matplotlib': 2907, 'console window': 739, 'databases': 907, 'sync': 3558, 'mvc 4': 2395, 'lxml': 2206, 'loops': 2201, '27': 41, 'deprecated': 977, 'python 27': 2901, 'string object': 3488, 'var': 3936, 'resolved type': 3082, 'via jquery': 3961, 'jquery javascript': 1999, 'gets': 1556, 'stuck': 3504, 'floating': 1419, 'notation': 2474, 'floating point': 1420, 'english': 1188, 'sms': 3360, 'usb': 3840, 'reload': 3038, 'background image': 344, 'downloading': 1092, 'mechanize': 2270, 'html using': 1688, 'special character': 3391, 'ant': 200, 'using google': 3870, 'compiler': 697, 'unix': 3802, 'timestamp': 3653, 'newbie': 2453, 'compare string': 683, 'instantiate': 1830, 'smooth': 3359, 'days': 931, 'mysql error': 2405, 'enums': 1202, 'supported': 3539, 'ror': 3131, 'sencha': 3243, 'touch': 3680, 'better': 374, 'sencha touch': 3244, 'including': 1760, 'pip': 2752, 'sizes': 3347, 'templates': 3593, 'unable find': 3768, 'combine': 660, 'formats': 1453, 'activity': 110, 'related': 3031, '# code': 4, 'writing': 4119, 'overwrite': 2608, 'data file': 878, 'close': 621, 'pc': 2684, 'socket connection': 3365, 'target': 3584, 'net 40': 2441, 'elasticsearch': 1149, 'java api': 1902, 'sample': 3175, 'settimeout': 3297, 'sleep': 3349, 'delay': 960, 'conversion': 773, 'expressions': 1297, 'lambda expressions': 2064, 'casting': 509, 'brackets': 412, 'square brackets': 3425, 'kill': 2052, 'camel': 484, 'fires': 1405, 'loads': 2164, 'javascript change': 1940, 'change event': 534, 'get specific': 1548, 'mysql using': 2410, 'final': 1390, 'regular expressions': 3030, 'return type': 3109, 'applying': 230, 'styles': 3510, 'sharing': 3308, 'get values': 1553, 'alias': 146, 'textarea': 3615, 'object attribute': 2510, 'searching': 3215, 'ldap': 2089, 'whether': 4053, 'check whether': 557, 'shiny': 3313, 'r shiny': 2933, 'trim': 3701, 'long string': 2190, 'arraylists': 267, 'around': 246, 'operation': 2575, 'would': 4109, 'onetomany': 2556, 'plain': 2762, 'list view': 2143, 'value input': 3921, 'c program': 447, 'another object': 196, 'subclass': 3512, 'shape': 3303, 'duration': 1115, 'uploaded': 3826, 'mp3': 2362, 'restful': 3096, 'endpoint': 1184, 'dbcontext': 933, 'text box': 3606, 'disk': 1035, 'file javascript': 1359, 'compare two': 684, 'routes': 3140, 'currency': 856, 'yii': 4152, 'sets': 3294, 'serverside': 3275, 'meteor': 2292, 'string contains': 3481, 'factory': 1320, 'deleted': 966, 'image upload': 1731, 'immutable': 1737, 'dropdownlist': 1108, 'select value': 3230, 'javascript array': 1938, 'internal': 1849, 'broken': 416, 'specialization': 3393, 'slow': 3354, 'dojo': 1076, 'python pandas': 2910, 'comparison': 688, 'simple way': 3334, 'way generate': 4003, 'generate random': 1514, 'c++ error': 454, 'whats best': 4050, 'net c': 2442, 'recognized': 2990, 'slide': 3350, 'sending email': 3251, 'arithmetic': 244, 'logical': 2183, 'operations': 2577, 'data type': 898, 'gradle': 1593, 'method found': 2300, 'already exists': 161, 'efficient': 1142, 'inputstream': 1806, 'efficient way': 1143, 'way convert': 3999, 'insert multiple': 1809, 'details': 993, 'javascript regex': 1954, 'regex find': 3019, 'html tag': 1685, 'xampp': 4129, 'asmx': 273, '2005': 30, 'way get': 4004, 'radiobutton': 2936, 'requires': 3074, '35': 49, 'net 4': 2440, 'net 35': 2439, 'preventing': 2830, 'java web': 1927, 'listen': 2145, 'combination': 658, 'entities': 1194, 'linq entities': 2130, 'aggregate': 131, 'method call': 2296, 'simulating': 3337, 'lib': 2107, 'python using': 2913, 'accessible': 93, '405': 58, 'allowed': 154, 'foreign': 1437, 'foreign key': 1438, 'checkboxes': 561, 'previous': 2831, 'read csv': 2963, 'databinding': 908, 'karma': 2036, 'redirecting': 3001, 'files folder': 1380, 'new tab': 2451, 'date time': 925, 'persisting': 2704, 'dynamically adding': 1121, 'user control': 3849, 'ajax post': 138, 'textview': 3620, 'applicable': 222, 'ie9': 1714, 'denied': 968, 'access denied': 90, 'method inside': 2301, 'io': 1860, 'calendar': 467, 'java heap': 1915, 'heap space': 1635, 'leave': 2096, 'upon': 3831, 'redirection': 3002, 'advantage': 129, 'scala': 3184, 'switch case': 3549, 'pass array': 2660, 'values java': 3934, 'printer': 2839, 'database c': 902, 'forloop': 1439, 'devexpress': 1005, 'picturebox': 2750, 'confirm': 721, 'html elements': 1676, 'interop': 1853, 'sheet': 3309, 'excel sheet': 1257, 'easily': 1126, 'call java': 470, 'readonly': 2976, 'installing': 1824, 'locally': 2170, 'ios 8': 1865, 'linq sql': 2132, 'alamofire': 142, 'minimum': 2317, 'username': 3855, 'documentgetelementbyid': 1070, 'printing': 2841, 'separate': 3255, 'mouseover': 2359, 'django rest': 1056, 'rest framework': 3092, 'head': 1630, 'function using': 1496, 'using regex': 3887, 'improve': 1755, 'c++ application': 449, 'li': 2106, 'parsing xml': 2652, 'xml using': 4142, 'mapped': 2241, 'base class': 355, 'span': 3387, 'associated': 295, 'retrieve data': 3104, 'matches': 2255, 'route matches': 3138, 'hadoop': 1614, 'platform': 2764, 'unable load': 3770, 'integrating': 1839, 'reporting': 3060, 'reading text': 2975, 'text area': 3605, 'function pointer': 1490, 'children': 568, 'free': 1470, 'error using': 1230, 'load data': 2156, 'js file': 2007, 'choice': 569, 'exactly': 1249, '2 arguments': 28, 'multithreading': 2390, 'arm': 245, 'subprocess': 3524, 'terminate': 3597, 'causing': 518, 'deadlock': 935, 'rules': 3156, 'zone': 4165, 'time zone': 3649, 'concatenate': 710, 'read file': 2966, 'escape': 1233, 'last row': 2077, 'check user': 555, 'ruby script': 3153, 'tableview': 3575, 'interval': 1854, 'polygons': 2786, 'keeping': 2038, 'safely': 3173, 'multiple files': 2377, 'give': 1565, 'cross': 835, 'request php': 3067, 'play framework': 2766, 'plus': 2777, 'get user': 1551, 'product': 2850, 'price': 2832, 'calculation': 464, 'configuring': 720, 'boot': 400, 'spring boot': 3408, 'binary tree': 382, 'huge': 1699, 'backslash': 347, 'combining': 662, 'login form': 2185, 'webclient': 4030, 'specific data': 3396, 'concat': 709, 'modifying': 2343, 'file_get_contents': 1376, 'working correctly': 4101, 'compiled': 696, '2015': 36, 'bug': 423, 'debugging': 939, 'currently': 861, 'used': 3847, 'pyqt': 2898, 'convert image': 778, 'picture': 2749, 'wall': 3990, 'mongo': 2348, 'db': 932, 'phone 8': 2708, 'python module': 2908, 'strange': 3470, 'equals': 1207, 'textbox using': 3617, 'arc': 235, 'check value': 556, 'ftp': 1474, 'trycatch': 3707, 'timing': 3656, 'activerecord': 108, 'associations': 297, 'associative': 298, 'associative array': 299, 'array object': 256, 'icons': 1702, 'get full': 1534, 'get input': 1538, 'el': 1148, 'page refresh': 2620, 'ie7': 1712, 'documentready': 1071, 'conflict': 723, 'file name': 1360, 'objective': 2523, 'objective c': 2524, '42': 60, 'allows': 156, 'windows service': 4079, 'thrown': 3640, 'rmi': 3128, 'depending': 972, 'php html': 2726, 'error expected': 1216, 'html php': 1682, 'jboss': 1963, 'win': 4065, 'arraylist': 265, 'visual basic': 3980, 'zend framework': 4160, 'im': 1723, 'trying make': 3710, 'using string': 3893, 'communicate': 678, 'netbeans': 2445, 'distance': 1044, 'two arrays': 3722, 'explode': 1291, 'way create': 4000, 'create json': 822, 'tree structure': 3696, 'string java': 3486, 'checked': 562, 'worker': 4098, 'cluster': 628, 'keypress': 2048, 'clientside': 618, 'form javascript': 1445, 'mapper': 2242, 'nsdate': 2481, 'plist': 2771, 'representation': 3065, 'undefined index': 3781, 'item list': 1883, 'table name': 3570, 'metadata': 2291, 'add new': 117, 'properties file': 2870, 'customer': 866, 'setting default': 3299, 'docker': 1063, 'python script': 2912, 'knockoutjs': 2055, 'side validation': 3323, 'protected': 2876, 'main method': 2217, 'linked list': 2124, 'deal': 936, 'languages': 2066, 'converting array': 787, 'real': 2978, 'email address': 1163, 'pygame': 2896, 'hard': 1622, 'file server': 1367, 'dd': 934, 'mm': 2323, 'word document': 4094, 'simple html': 3332, 'socketio': 3367, 'call undefined': 474, 'uiimagepickercontroller': 3751, 'customize': 867, 'image using': 1732, 'web api': 4017, 'linking': 2127, 'cmake': 630, 'x86': 4125, 'junit': 2033, '# winforms': 13, 'download file': 1090, 'opengl': 2568, 'hours': 1666, 'calculations': 465, 'gae': 1502, 'backup': 348, 'entire': 1193, 'rotation': 3134, 'manager': 2230, 'framework 2': 1466, 'special characters': 3392, 'uses': 3858, 'resolution': 3079, 'base64': 356, 'compatible': 690, 'razor': 2957, 'working expected': 4102, 'python +': 2900, 'html template': 1687, 'hashmapstring': 1627, 'object array': 2509, 'open file': 2562, 'project euler': 2862, 'aspnet web': 284, 'using net': 3881, 'category': 513, 'scanf': 3187, 'difference using': 1017, 'memory exception': 2279, 'sound': 3382, 'typing': 3743, 'generics': 1524, 'java generics': 1914, '64bit': 74, 'computer': 708, 'download image': 1091, 'image files': 1726, 'bitmap': 387, '# net': 9, 'jsf': 2010, 'client side': 616, 'validation using': 3913, 'contained': 754, 'memcache': 2275, 'unit test': 3798, 'giving error': 1569, 'thread safety': 3630, '2013': 35, 'net framework': 2443, 'latest': 2079, 'html javascript': 1680, 'javascript file': 1944, 'savechanges': 3179, 'role': 3129, 'detected': 995, 'uiimageview': 3752, 'add image': 116, 'boost': 399, 'host': 1662, 'domain name': 1080, 'schedule': 3190, 'encode': 1174, 'spark': 3388, 'function name': 1487, 'php variable': 2740, 'failure': 1327, 'slider': 3351, 'values using': 3935, 'registry': 3026, 'value c': 3918, 'java string': 1924, 'converted': 784, 'could converted': 804, 'guice': 1610, 'dictionaries': 1012, '# aspnet': 2, 'add element': 115, 'variables javascript': 3946, 'react': 2958, 'react native': 2959, 'clicking button': 610, 'xna': 4144, 'tasks': 3587, 'string integer': 3485, 'hashmap': 1626, 'ranges': 2952, 'old': 2543, '23': 39, 'exception handling': 1264, 'php sdk': 2737, 'dynamically create': 1122, 'integer string': 1836, 'failed load': 1324, '404 found': 57, 'third': 3625, 'party': 2658, 'inputs': 1805, 'multiple select': 2382, 'scrollbars': 3207, '20': 29, 'validator': 3915, 'yii framework': 4153, 'framework 20': 1467, 'invisible': 1857, 'compatibility': 689, 'manifest': 2231, 'gson': 1608, 'object using': 2521, 'explanation': 1288, 'adjust': 125, 'ready': 2977, 'need help': 2431, 'retain': 3102, 'bootstrap modal': 403, 'follow': 1427, 'paypal': 2682, 'payment': 2681, 'char int': 542, 'decryption': 951, 'joomla': 1982, 'handlebars': 1616, '# method': 8, 'angular2': 184, 'two lists': 3726, 'python find': 2906, 'scheduler': 3192, '# console': 5, 'console app': 737, 'task scheduler': 3586, 'dict': 1011, 'url parameter': 3836, 'pipe': 2753, 'white': 4054, 'white space': 4055, 'relations': 3033, '500 error': 65, 'get json': 1539, 'ajax jquery': 135, 'javascript get': 1948, 'objc': 2507, 'exc_bad_access': 1252, 'axis': 334, 'instance variable': 1828, 'wrapped': 4115, 'object callable': 2511, 'checkbox checked': 559, 'convert array': 775, 'numpy array': 2503, 'dom element': 1078, 'data php': 890, 'secure': 3219, 'displayed': 1040, 'nsarray': 2479, 'frontend': 1473, 'server database': 3270, 'java servlet': 1922, 'continue': 763, 'submit button': 3520, 'pair': 2624, 'locate': 2171, 'whose': 4058, 'yet': 4151, 'encoding issue': 1177, 'milliseconds': 2313, 'date string': 924, 'black': 389, 'translation': 3693, 'change button': 531, 'php jquery': 2728, 'garbage': 1506, 'mat': 2253, 'aspnet page': 283, 'connections': 733, 'integration': 1840, 'caught': 514, '# windows': 12, 'windows application': 4074, 'expand': 1283, 'accordion': 97, 'bootstrap 3': 402, 'function c': 1481, 'reading multiple': 2974, 'testing': 3601, 'unit testing': 3799, 'json array': 2012, 'preg_replace': 2819, 'looping': 2200, 'html div': 1674, 'graph api': 1595, 'api php': 206, 'nsuserdefaults': 2487, 'uri': 3834, 'highest': 1655, 'synchronize': 3559, 'bit': 386, 'comprehension': 706, 'known': 2058, 'unable connect': 3767, 'sites': 3345, 'annotations': 190, 'boolean': 398, 'default value': 954, 'adding new': 122, 'groupby': 1604, 'javalangillegalargumentexception': 1931, 'superclass': 3537, 'getters': 1558, 'setters': 3296, 'getters setters': 1559, 'method button': 2294, 'start stop': 3433, 'minutes': 2318, 'val': 3905, 'posting': 2810, 'export': 1293, 'metro': 2306, 'coding': 643, 'sparse': 3389, 'index value': 1771, 'cin': 575, 'input text': 1802, 'performing': 2695, 'despite': 990, 'compute': 707, 'webservice': 4037, 'status code': 3449, 'gps': 1590, '32bit': 48, 'init': 1783, 'select option': 3229, 'stay': 3450, 'code first': 636, 'gd': 1509, 'another one': 197, 'math': 2257, 'vb net': 3948, 'framework 6': 1468, 'convention': 772, 'java swing': 1925, 'twisted': 3718, 'ec2': 1129, 'html element': 1675, 'jars': 1895, 'loading images': 2163, 'programatically': 2855, 'sharepoint': 3306, 'added': 119, 'sharepoint 2010': 3307, 'using matplotlib': 3878, 'pass object': 2662, 'ienumerable': 1715, 'items list': 1885, 'temporarily': 3594, 'graphs': 1597, 'occur': 2532, 'knockout': 2054, 'mime': 2314, 'mime type': 2315, 'push notification': 2891, 'via php': 3962, 'dictionary python': 1014, 'nvarchar': 2505, 'type int': 3734, 'passing variable': 2673, 'signalr': 3326, 'pagination': 2623, 'nested objects': 2437, 'wget': 4048, 'comparing two': 687, 'card': 500, 'recursively': 2999, 'spring data': 3409, 'unknown number': 3804, 'httpwebrequest': 1698, 'try catch': 3706, 'flash': 1414, 'digit': 1020, 'type file': 3733, 'colors': 650, 'tags using': 3579, 'method return': 2303, 'import name': 1750, 'press': 2826, 'compile time': 695, 'posts': 2811, 'string value': 3493, '# program': 10, 'generator': 1519, 'duplicate values': 1112, 'patterns': 2679, 'utility': 3901, 'comments': 675, 'updated': 3817, 'run code': 3158, 'servers': 3274, 'get text': 1549, 'cython': 871, 'right way': 3127, 'corner': 798, 'knitr': 2053, 'document ready': 1068, 'pure': 2888, 'available': 327, 'requested': 3069, 'coming': 665, 'function r': 1492, 'html string': 1683, 'two different': 3724, 'getjson': 1555, 'deployment': 976, 'csrf': 843, 'multiple parameters': 2380, 'naming': 2418, 'classnotfoundexception': 595, 'standalone': 3430, 'along': 157, 'maintain': 2219, 'collections': 647, 'regarding': 3017, 'cant use': 494, 'prompt': 2865, 'vs2010': 3986, 'username password': 3856, 'service reference': 3277, 'jqgrid': 1987, 'collapse': 645, 'wmi': 4089, 'decoding': 948, 'iphone app': 1873, 'g++': 1501, 'construct': 746, 'abstract class': 85, 'malloc': 2226, 'refresh page': 3014, 'save html': 3178, 'direction': 1025, 'opencart': 2565, 'declared scope': 945, 'c++ program': 456, 'refreshing': 3015, 'beans': 363, 'swift 3': 3545, 'gone': 1577, 'mysql server': 2408, 'isnt': 1878, 'serving': 3279, 'asset': 289, 'whats difference': 4051, 'blocks': 394, 'xml document': 4138, 'net web': 2444, 'web browser': 4020, 'lion': 2135, 'get id': 1536, 'references': 3010, 'cxf': 869, 'occurs': 2536, '50': 63, 'org': 2588, 'json objects': 2018, 'search results': 3213, 'jquery autocomplete': 1990, 'attributeerror': 314, 'file names': 1361, 'mask': 2250, 'compile error': 694, 'find symbol': 1395, 'reports': 3061, 'charts': 551, 'anything': 202, 'post variables': 2806, 'multiple values': 2386, 'protocol': 2877, 'server client': 3269, 'fileupload': 1384, 'javascripts': 1959, 'onclick function': 2550, 'file system': 1369, 'key press': 2045, 'present': 2825, 'text value': 3614, 'association': 296, 'value select': 3925, 'binary search': 381, 'interactive': 1844, 'delete row': 965, 'error unexpected': 1229, 'importerror': 1752, 'importerror module': 1753, 'module named': 2345, 'random number': 2949, 'linq xml': 2133, 'managed': 2228, 'colour': 651, 'ggplot': 1562, 'files c': 1379, 'usercontrol': 3854, 'ipython': 1876, 'restrict': 3098, 'progress': 2858, 'progress bar': 2859, 'observablecollection': 2530, 'itextsharp': 1891, 'using itextsharp': 3872, 'application using': 226, 'classs': 597, 'jsoup': 2026, 'hexadecimal': 1645, 'change text': 535, 'text color': 3607, '_server': 81, 'code c': 635, 'ipn': 1875, 'paypal ipn': 2683, 'quality': 2918, 'backbone': 339, 'accepting': 87, 'modal window': 2333, 'marker': 2248, 'maps v3': 2246, 'javascript api': 1937, 'mobile safari': 2326, 'list using': 2142, 'capybara': 499, 'multiple class': 2374, 'using codeigniter': 3865, 'form input': 1444, 'input fields': 1800, 'gulp': 1611, 'activemq': 107, 'tuple': 3712, 'input type': 1803, 'json response': 2020, 'input box': 1797, 'rate': 2954, 'strategy': 3471, 'highlight': 1656, 'calling java': 482, 'java program': 1919, 'attachments': 308, '2007': 31, 'simulate': 3336, 'two dimensional': 3725, 'phpexcel': 2742, 'encrypting': 1180, 'error trying': 1227, 'send data': 3246, 'enter key': 1191, 'recommended': 2991, 'false': 1328, 'easiest': 1124, 'easiest way': 1125, 'way remove': 4009, 'calculator': 466, 'casperjs': 506, 'refused': 3016, 'connection refused': 730, 'lost': 2204, 'cors': 802, 'bounds': 407, 'fast': 1329, '1d': 26, 'smaller': 3357, 'mfc': 2307, 'cascade': 503, 'every time': 1246, 'method called': 2297, 'implicit': 1743, 'hangs': 1620, 'written': 4120, 'nsmanagedobject': 2483, 'scale': 3185, 'string javascript': 3487, 'account': 98, 'uialertview': 3747, 'uitextfield': 3760, 'servlets': 3281, 'function returns': 1495, 'odd': 2538, 'behavior': 367, 'step': 3456, 'object javascript': 2515, 'object type': 2520, 'click link': 606, 'tutorial': 3715, 'php curl': 2720, 'javascript error': 1943, 'development': 1004, 'static files': 3443, 'get file': 1532, 'logout': 2188, 'member function': 2273, 'frames': 1464, 'iframes': 1717, 'quickly': 2930, 'tostring': 3677, 'rounded': 3136, 'applicable arguments': 223, 'hover': 1667, 'class name': 589, 'doc': 1062, 'continuously': 765, 'ios app': 1866, 'dont work': 1084, 'passing array': 2669, 'combine two': 661, 'two tables': 3728, 'object value': 2522, 'using reflection': 3886, 'anchor tag': 174, 'waiting': 3989, 'totally': 3679, 'disabling': 1033, 'tabs': 3576, 'back button': 338, 'parameter name': 2635, 'behaviour': 368, 'unsigned int': 3810, 'date format': 920, 'create new': 824, 'select multiple': 3228, 'efficiently': 1144, 'static library': 3444, 'criteria': 832, 'static class': 3442, 'static method': 3445, 'persist': 2701, 'letter': 2102, 'incompatible': 1761, 'reader': 2970, 'uncaught error': 3773, 'find module': 1393, 'war': 3993, 'multiple times': 2385, 'throw': 3637, 'delete file': 964, 'throw exception': 3638, 'master': 2252, 'websphere': 4042, 'reduce': 3004, 'losing': 2203, 'aspect': 276, 'without losing': 4087, 'studio 2008': 3506, 'rotate': 3132, 'button background': 432, 'entries': 1198, 'multiline textbox': 2372, 'android application': 177, 'pdf using': 2687, 'read excel': 2965, 'dragged': 1096, 'regexp': 3022, 'array strings': 260, 'good way': 1580, 'parts': 2657, 'compared': 685, 'scikitlearn': 3194, 'routing error': 3142, 'loading image': 2162, 'php login': 2729, 'never': 2448, 'though': 3626, 'deserialize json': 983, 'forcing': 1434, 'within loop': 4085, 'fb': 1336, 'live': 2154, 'gc': 1507, 'timezone': 3655, 'selector sent': 3238, 'exception error': 1262, 'server error': 3271, 'gradient': 1592, 'external javascript': 1306, 'array element': 250, 'rxjava': 3169, 'timer': 3651, 'tomcat server': 3668, 'deep': 952, 'subdomain': 3514, 'parse json': 2645, 'log file': 2178, 'array data': 249, 'field using': 1344, 'inside foreach': 1817, 'spring 3': 3407, 'signed': 3328, 'jndi': 1975, 'iqueryable': 1877, 'aspx': 285, 'pros': 2874, 'cons': 734, 'pros cons': 2875, 'watch': 3996, 'command found': 669, 'found error': 1460, 'shortcut': 3315, 'scanner': 3188, 'value error': 3919, 'object string': 2519, 'string using': 3492, 'file aspnet': 1349, 'git': 1564, 'permission denied': 2699, 'via ajax': 3959, 'jquery datepicker': 1993, 'lower': 2205, 'inside loop': 1819, 'string c++': 3479, 'pdfs': 2688, 'similar': 3330, 'completely': 701, 'insert data': 1808, 'bits': 388, 'variable java': 3938, 'solving': 3372, 'vaadin': 3904, 'classpath': 596, 'go': 1575, 'increasing': 1766, 'x86_64': 4126, 'symbols architecture': 3555, 'architecture x86_64': 237, 'displays': 1042, 'combinations': 659, 'closes': 623, 'change content': 533, 'dataframe column': 910, 'extremely': 1311, 'extremely slow': 1312, 'destroy': 991, 'javascript php': 1952, 'orientation': 2589, 'error java': 1219, 'transform': 3690, 'explain': 1287, 'orm': 2592, 'dev': 1000, 'migrate': 2310, 'high': 1653, 'uppercase': 3833, 'caused': 516, 'javalangnullpointerexception': 1933, 'creation': 830, 'mvc3': 2398, 'thymeleaf': 3644, 'javascript files': 1945, 'exception thrown': 1266, 'element using': 1154, 'call method': 473, 'nsdictionary': 2482, 'javascript object': 1950, 'scaling': 3186, 'event firing': 1240, 'router': 3139, 'data frame': 880, 'silverlight': 3329, 'tuples': 3713, 'convert list': 781, 'get first': 1533, 'calls': 483, 'method calls': 2298, 'validation error': 3912, 'oledb': 2545, 'redux': 3005, 'run time': 3162, 'values array': 3932, 'additional': 123, 'div tag': 1049, 'join two': 1980, 'arabic': 233, 'database connection': 903, 'sure': 3541, 'make sure': 2222, 'self': 3242, 'relative path': 3036, 'error class': 1215, 'vba': 3949, 'xamarin': 4127, 'leak': 2091, 'transactional': 3687, 'restart': 3094, 'fullcalendar': 1476, 'appears': 216, 'mockito': 2329, 'liststring': 2151, 'playing': 2768, 'scrollbar': 3206, 'flask app': 1416, '500 internal': 66, 'internal server': 1850, 'python3': 2914, 'extra': 1308, 'djangos': 1058, '51': 67, 'laravel 51': 2070, 'get access': 1528, 'access database': 89, 'features': 1338, 'uiviewcontroller': 3763, 'iphone sdk': 1874, 'interfaces': 1848, 'template class': 3592, 'javautildate': 1960, 'callbacks': 478, 'receiving': 2987, 'designer': 986, 'model class': 2336, 'tell': 3590, 'suppress': 3540, 'indentation': 1768, 'prime': 2835, 'simultaneously': 3339, 'time date': 3647, 'encrypted': 1179, 'recaptcha': 2984, 'answer': 199, 'console application': 738, 'applied': 228, 'commas': 673, 'context menu': 762, 'actions': 103, 'facebook login': 1317, 'helpers': 1642, 'nsdata': 2480, 'solve': 3371, 'execute javascript': 1275, 'list lists': 2138, 'websocket': 4040, 'image java': 1728, 'pipes': 2755, 'rstudio': 3149, 'one class': 2552, 'modifier': 2341, 'stdmap': 3452, 'cross domain': 836, 'throws error': 3642, 'extend': 1298, 'browser back': 418, 'button using': 437, 'extending': 1300, 'allowing': 155, 'way read': 4008, 'ee': 1139, 'java ee': 1911, 'sum values': 3535, 'function javascript': 1486, 'finished': 1400, 'new line': 2450, 'exact': 1248, 'java app': 1903, 'method class': 2299, 'database php': 904, 'uploaded file': 3827, 'places': 2761, 'first row': 1409, 'ways': 4012, 'connect mysql': 726, 'dots': 1086, 'explicitly': 1290, 'important': 1751, 'reactive': 2960, 'extensions': 1304, 'setinterval': 3293, 'query string': 2923, 'chrome firefox': 574, 'xdocument': 4133, '# using': 11, 'array value': 263, 'cucumber': 850, 'filesystem': 1383, 'javascript add': 1935, 'error call': 1212, 'customizing': 868, 'has_many': 1623, 'makes': 2224, 'cases': 505, 'plain text': 2763, 'catching': 511, 'getelementsbytagname': 1554, 'windows mobile': 4077, 'jsonarray': 2023, 'jsonobject': 2025, 'java using': 1926, 'junit test': 2034, 'feature': 1337, 'ajax calls': 134, 'column names': 654, 'todataurl': 3662, 'sort list': 3377, 'immediate': 1735, 'locked': 2175, 'xaxis': 4130, 'tracking': 3684, 'java project': 1920, 'array javascript': 254, 'javascript onclick': 1951, 'form field': 1442, 'directories': 1028, 'say': 3182, 'get error': 1531, 'identical': 1706, 'strict': 3475, 'cpp': 813, 'subset': 3525, 'inserting data': 1813, 'smarty': 3358, 'method using': 2304, 'split string': 3403, 'python requests': 2911, 'post method': 2804, 'placeholder': 2760, 'actual': 111, 'attempted': 310, 'nested json': 2436, 'structures': 3501, 'java object': 1918, 'formatted': 1454, 'google charts': 1584, 'pythonic': 2915, 'list tuples': 2141, 'insert value': 1810, 'passing function': 2671, 'button text': 436, 'java file': 1913, 'rails app': 2941, 'value another': 3917, 'fade': 1321, 'effect': 1141, 'innerhtml': 1795, 'production': 2851, 'file ruby': 1366, 'done': 1081, 'openlayers': 2571, 'link_to': 2122, 'convert int': 779, 'inside div': 1816, 'algorithms': 145, 'window using': 4068, 'class constructor': 584, 'maven project': 2262, 'attempting': 311, 'hashset': 1628, 'passenger': 2667, 'enable': 1172, 'html5 video': 1691, 'nullable': 2493, 'response header': 3089, 'thing': 3623, 'preprocessor': 2824, 'divide': 1051, 'get html': 1535, 'hashes': 1625, 'data javascript': 883, 'register': 3023, 'unless': 3805, 'macro': 2210, 'locking': 2176, 'polymorphism': 2787, 'listening': 2148, 'text label': 3612, 'prototype': 2878, 'c++ dll': 453, 'deserialization': 981, 'spinner': 3401, 'union': 3795, 'multi': 2368, 'php ajax': 2714, 'compare 2': 682, 'elegant way': 1151, 'layer': 2083, 'get image': 1537, 'reference set': 3007, 'native c++': 2421, 'outer': 2596, '14': 22, 'oracle database': 2584, 'convert byte': 776, 'characters string': 547, 'curly': 854, 'braces': 411, 'curly braces': 855, 'nice': 2459, 'struts': 3502, 'yyyy': 4157, 'small': 3356, 'allocate': 149, 'friends': 1471, 'data text': 897, 'uitextview': 3761, 'xelement': 4134, 'passing data': 2670, 'regex match': 3020, 'text field': 3608, 'near': 2427, 'binary data': 379, 'occurrences': 2535, 'laravel 4': 2068, 'method c': 2295, 'clients': 617, 'auth': 317, 'user id': 3851, 'real time': 2979, 'python 3': 2902, 'ejb': 1147, 'factor': 1319, 'levels': 2105, 'viewcontroller': 3970, 'xslt': 4148, 'using url': 3895, 'memory leak': 2280, 'backend': 341, 'method java': 2302, 'precision': 2815, 'client server': 615, 'complex': 702, 'data structures': 895, 'data excel': 877, 'excel using': 1259, 'replace text': 3056, 'xml data': 4137, 'compilation error': 692, 'jdbc connection': 1966, 'identifier': 1707, 'upload file': 3824, 'elements list': 1157, 'input element': 1798, 'link clicked': 2121, 'dont want': 1083, 'table cell': 3569, 'longitude': 2192, 'latitude': 2080, 'lookup': 2195, 'end string': 1183, 'wifi': 4063, 'prints': 2842, 'xml files': 4141, 'crossplatform': 838, 'get parameters': 1543, 'php using': 2739, 'till': 3645, 'paperclip': 2629, 'php page': 2732, 'intellisense': 1843, 'jlabel': 1973, 'clang': 581, 'signature': 3327, 'clickable': 607, 'elements using': 1158, 'arbitrary': 234, 'fprintf': 1461, 'function parameter': 1489, 'plots': 2773, 'constraints': 745, 'incompatible types': 1762, 'validate form': 3909, 'allocated': 150, 'mod_wsgi': 2331, 'threading': 3631, 'upload image': 3825, 'locale': 2167, 'selected value': 3234, 'blocking': 393, 'classic': 594, 'printed': 2838, 'return null': 3108, 'memcached': 2276, 'python create': 2904, 'literal': 2153, 'instances': 1829, 'monitor': 2352, 'multiple lines': 2378, 'cgi': 528, 'analysis': 171, 'jquery dialog': 1994, 'signal': 3325, 'parsed': 2648, 'ms sql': 2365, 'questions': 2927, 'short': 3314, 'object inside': 2513, 'excel c': 1255, 'two values': 3729, 'number characters': 2497, 'create multiple': 823, 'error calling': 1213, 'bottom': 405, 'nsmutablearray': 2484, 'seem': 3222, 'image path': 1730, 'bulk': 429, 'systemthreadingtimer': 3566, 'change value': 536, 'row data': 3144, 'trailing': 3685, 'leading': 2090, 'using opencv': 3882, 'linkedlist': 2125, 'amount': 170, 'performance issues': 2694, 'folders': 1426, 'css javascript': 845, 'whats wrong': 4052, 'session id': 3283, 'jquery get': 1998, 'multiple columns': 2375, 'jump': 2032, 'pipeline': 2754, 'wont work': 4091, 'referencing': 3011, 'learning': 2094, 'loop javascript': 2199, 'open new': 2563, 'grunt': 1607, 'thats': 3621, 'java eclipse': 1910, 'ends': 1185, 'pool': 2788, 'netty': 2446, '403': 55, 'replacement': 3057, 'pass parameters': 2664, 'array string': 259, 'contenttype': 760, 'java error': 1912, 'django template': 1057, 'current user': 860, 'super': 3536, 'confirmation': 722, 'rest service': 3093, 'python object': 2909, 'true false': 3704, 'rails 31': 2939, 'call member': 472, 'difference two': 1016, 'returns false': 3114, 'forbidden': 1432, 'convert html': 777, 'dispatch': 1036, 'app using': 212, 'tls': 3661, 'user login': 3853, 'number parameters': 2498, 'ignoring': 1720, 'property name': 2873, 'notify': 2478, 'file c++': 1352, 'parameter 1': 2634, 'error invalid': 1218, 'text using': 3613, 'owner': 2609, 'working chrome': 4100, 'javascript functions': 1947, 'webapp': 4027, 'webxml': 4044, 'webforms': 4033, 'manytomany relationship': 2238, '# make': 7, 'migrations': 2312, 'tensorflow': 3595, 'upgrade': 3821, 'working ie': 4104, 'even though': 1238, 'conditionally': 714, 'view controller': 3969, 'form fields': 1443, 'entered': 1192, 'dynamic array': 1117, 'consuming': 752, 'search box': 3211, 'direct': 1024, 'model controller': 2337, 'convert json': 780, 'titles': 3659, 'logic': 2182, 'value php': 3924, 'recent': 2988, 'figure': 1347, 'realm': 2981, 'ids': 1710, 'manage': 2227, 'visual c++': 3981, 'batch': 361, 'cpu': 814, 'extension methods': 1303, 'php function': 2724, 'overloaded': 2604, 'email using': 1164, 'controller action': 768, '64': 72, '64 bit': 73, 'designing': 987, 'subtract': 3529, 'switching': 3551, 'xp': 4145, 'windows xp': 4080, 'mass': 2251, 'embedded': 1167, 'store data': 3464, '25': 40, 'inherit': 1780, 'lazy load': 2087, 'child node': 566, 'min': 2316, 'geolocation': 1525, 'nunit': 2504, 'specifying': 3399, 'unused': 3812, 'toggle': 3665, 'jquery click': 1992, 'polygon': 2785, 'facebook graph': 1316, 'run java': 3160, 'label text': 2060, 'generic class': 1521, 'develop': 1001, 'java split': 1923, 'javalangclasscastexception': 1930, 'circle': 577, 'time interval': 3648, 'setter': 3295, 'whitespace': 4056, 'generic type': 1523, 'application c': 225, 'progressbar': 2860, 'file download': 1354, 'parse error': 2643, 'get request': 1545, 'wcf client': 4014, 'general': 1512, 'loaderror': 2160, '16': 24, 'aes': 130, 'data python': 891, 'array struct': 261, 'beginning': 366, 'reading file': 2973, 'pymongo': 2897, 'actually': 112, 'multiple threads': 2384, 'c++ project': 457, 'dispose': 1043, 'search tree': 3214, 'decorator': 949, 'rich': 3121, 'instance class': 1826, 'screen size': 3199, 'query mysql': 2921, 'status bar': 3448, 'underscores': 3787, 'check file': 553, 'rails application': 2942, 'zeros': 4162, 'utf8 string': 3900, 'scheduled': 3191, 'modified': 2340, 'value text': 3926, 'shell script': 3311, 'set property': 3291, 'checkbox value': 560, 'value one': 3923, 'persistencexml': 2702, 'remove duplicate': 3043, 'string text': 3491, 'starts': 3436, 'authenticate': 318, 'jpeg': 1985, 'jbutton': 1964, 'tomcat7': 3669, 'home': 1660, 'flex': 1417, 'updates': 3819, 'another form': 195, 'mysql db': 2404, 'web pages': 4022, 'photo': 2712, 'way handle': 4005, 'listeners': 2147, 'joining': 1981, 'data jpa': 884, 'streams': 3474, 'jre': 2005, 'sorting array': 3381, 'messaging': 2289, 'cloud messaging': 627, 'comma separated': 667, 'notifications': 2477, 'resize image': 3077, 'scene': 3189, 'checkout': 564, 'eclipse project': 1133, 'unhandled exception': 3793, 'exception type': 1267, 'doctrine 2': 1066, 'trace': 3682, 'cipher': 576, 'str': 3469, '00': 16, 'phone number': 2710, 'ce': 519, 'custom class': 864, 'reason': 2983, 'wicket': 4059, 'compiler error': 698, '400': 53, 'mongoid': 2350, 'copying': 794, 'stops': 3461, 'jquery trigger': 2001, 'const reference': 741, 'cast object': 508, 'phps': 2746, 'identify': 1708, 'wpf mvvm': 4113, 'ignores': 1719, 'file found': 1356, 'represent': 3064, 'navbar': 2422, 'wrapping': 4117, 'selected option': 3233, 'rgb': 3120, 'js files': 2008, 'meaning': 2268, 'code java': 637, 'inserted': 1811, 'text files': 3610, 'php check': 2716, 'url using': 3837, 'element array': 1153, 'using data': 3868, 'trying use': 3711, 'array index': 252, 'read text': 2968, 'based user': 358, 'current date': 858, 'character encoding': 544, 'post json': 2803, 'large file': 2074, 'binary operator': 380, 'files python': 1381, 'import data': 1748, 'playing audio': 2769, 'way parse': 4006, 'editable': 1135, 'json parsing': 2019, 'javascript popup': 1953, 'default values': 955, 'arraylist java': 266, 'data server': 892, 'crashing': 817, 'nonobject': 2471, 'images using': 1734, 'mm dd': 2324, 'latitude longitude': 2081, 'phpini': 2743, 'keras': 2042, 'valgrind': 3906, 'way check': 3998, 'pressing': 2828, 'ensure': 1189, 'unresolved': 3808, 'keyup': 2050, 'violation': 3974, 'scroll bar': 3205, 'touch 2': 3681, 'mysql data': 2402, '21': 37, 'reusing': 3116, 'implements': 1742, 'dynamically add': 1120, 'ms access': 2364, 'formula': 1457, 'using apache': 3861, 'responding': 3086, 'getter': 1557, 'allocating': 151, 'jquery event': 1995, 'assign value': 292, 'using entity': 3869, 'font size': 1430, 'jquery find': 1996, 'requirejs': 3073, 'much': 2367, 'yyyymmdd': 4158, 'categories': 512, 'nilnilclass': 2461, 'event listener': 1243, 'image gallery': 1727, 'crossthread': 839, 'controller using': 769, 'rubys': 3154, 'structs c': 3499, 'ff': 1341, 'entityframework': 1197, 'shift': 3312, 'initializer list': 1788, 'repeat': 3052, 'using ruby': 3889, 'rotating': 3133, 'image file': 1725, 'vm': 3983, '15': 23, 'restricting': 3099, '22': 38, 'jasper': 1897, 'error syntax': 1226, 'loop array': 2197, 'function object': 1488, 'facebook sdk': 1318, 'arduino': 238, 'asp net': 275, 'navigating': 2423, 'node js': 2464, 'clustering': 629, 'pack': 2611, 'week': 4045, 'search multiple': 3212, 'fabricjs': 1313, 'parameter url': 2636, 'handlers': 1618, 'virtualenv': 3976, 'php error': 2722, 'child window': 567, 'ios sdk': 1867, 'tornado': 3676, 'request url': 3068, 'operation valid': 2576, 'fetch data': 1340, 'mouseleave': 2358, 'ajax php': 137, 'consecutive': 735, 'creating custom': 828, 'update query': 3816, 'appearing': 215, 'intervals': 1855, 'edittext': 1138, 'jms': 1974, 'regression': 3027, 'apple': 220, 'event handlers': 1242, 'joda': 1978, 'java date': 1909, 'find whether': 1396, 'richtextbox': 3124, 'avplayer': 330, 'members': 2274, 'unexpected token': 3791, 'breaking': 414, 'regex replace': 3021, 'java library': 1916, 'inside class': 1815, '17': 25, 'list object': 2139, 'simple php': 3333, 'rename': 3049, 'prepend': 2823, '400 bad': 54, 'bad request': 350, 'string html': 3484, 'submission': 3518, 'form submission': 1446, 'parallelforeach': 2631, 'rails3': 2945, 'using static': 3892, 'object name': 2516, 'use ajax': 3842, 'class type': 590, 'file via': 1372, 'hold': 1659, 'multiple fields': 2376, 'jtextfield': 2031, 'main class': 2216, 'function returning': 1494, 'class another': 583, 'file size': 1368, '55': 69, 'appropriate': 231, 'today': 3663, 'value html': 3920, 'held': 1637, 'choose': 570, 'dialog box': 1010, 'rich text': 3122, 'activex': 109, 'listobject': 2149, 'error installing': 1217, 'better way': 375, 'segue': 3225, 'advanced': 128, 'injecting': 1791, 'accounts': 99, 'java 6': 1899, 'permissions': 2700, 'engines': 1187, 'wamp': 3991, 'way pass': 4007, 'reveal': 3117, 'unwanted': 3813, 'observable': 2529, 'threw': 3636, 'determining': 999, 'image object': 1729, 'really': 2980}\n"
     ]
    }
   ],
   "source": [
    "######### YOUR CODE HERE #############\n",
    "print(tfidf_vocab)"
   ]
  },
  {
   "cell_type": "markdown",
   "metadata": {},
   "source": [
    "### MultiLabel classifier\n",
    "\n",
    "As we have noticed before, in this task each example can have multiple tags. To deal with such kind of prediction, we need to transform labels in a binary form and the prediction will be a mask of 0s and 1s. For this purpose it is convenient to use [MultiLabelBinarizer](http://scikit-learn.org/stable/modules/generated/sklearn.preprocessing.MultiLabelBinarizer.html) from *sklearn*."
   ]
  },
  {
   "cell_type": "code",
   "execution_count": 28,
   "metadata": {},
   "outputs": [],
   "source": [
    "from sklearn.preprocessing import MultiLabelBinarizer"
   ]
  },
  {
   "cell_type": "code",
   "execution_count": 29,
   "metadata": {},
   "outputs": [],
   "source": [
    "mlb = MultiLabelBinarizer(classes=sorted(tags_counts.keys()))\n",
    "y_train = mlb.fit_transform(y_train) # it chnage the y_train in feature form like alll clases with 0,1 value\n",
    "y_val = mlb.fit_transform(y_val)"
   ]
  },
  {
   "cell_type": "markdown",
   "metadata": {},
   "source": [
    "Implement the function *train_classifier* for training a classifier. In this task we suggest to use One-vs-Rest approach, which is implemented in [OneVsRestClassifier](http://scikit-learn.org/stable/modules/generated/sklearn.multiclass.OneVsRestClassifier.html) class. In this approach *k* classifiers (= number of tags) are trained. As a basic classifier, use [LogisticRegression](http://scikit-learn.org/stable/modules/generated/sklearn.linear_model.LogisticRegression.html). It is one of the simplest methods, but often it performs good enough in text classification tasks. It might take some time, because a number of classifiers to train is large."
   ]
  },
  {
   "cell_type": "code",
   "execution_count": 30,
   "metadata": {},
   "outputs": [],
   "source": [
    "from sklearn.multiclass import OneVsRestClassifier\n",
    "from sklearn.linear_model import LogisticRegression, RidgeClassifier"
   ]
  },
  {
   "cell_type": "code",
   "execution_count": 31,
   "metadata": {},
   "outputs": [
    {
     "name": "stdout",
     "output_type": "stream",
     "text": [
      "X_test_tfidf  (20000, 18026)\n",
      "X_val_tfidf  (30000, 18026)\n"
     ]
    }
   ],
   "source": [
    "def train_classifier(X_train, y_train):\n",
    "    \"\"\"\n",
    "      X_train, y_train — training data\n",
    "      \n",
    "      return: trained classifier\n",
    "    \"\"\"\n",
    "    \n",
    "    # Create and fit LogisticRegression wraped into OneVsRestClassifier.\n",
    "    model=OneVsRestClassifier(LogisticRegression()).fit(X_train,y_train)\n",
    "    \n",
    "    return model\n",
    "\n",
    "    ######################################\n",
    "    ######### YOUR CODE HERE #############\n",
    "    ######################################   \n",
    "    \n",
    "print('X_test_tfidf ', X_test_tfidf.shape) \n",
    "print('X_val_tfidf ',X_val_tfidf.shape)\n"
   ]
  },
  {
   "cell_type": "markdown",
   "metadata": {},
   "source": [
    "Train the classifiers for different data transformations: *bag-of-words* and *tf-idf*."
   ]
  },
  {
   "cell_type": "code",
   "execution_count": 32,
   "metadata": {},
   "outputs": [],
   "source": [
    "classifier_mybag = train_classifier(X_train_mybag, y_train)\n",
    "classifier_tfidf = train_classifier(X_train_tfidf, y_train)"
   ]
  },
  {
   "cell_type": "markdown",
   "metadata": {},
   "source": [
    "Now you can create predictions for the data. You will need two types of predictions: labels and scores."
   ]
  },
  {
   "cell_type": "code",
   "execution_count": 33,
   "metadata": {},
   "outputs": [],
   "source": [
    "y_val_predicted_labels_mybag = classifier_mybag.predict(X_val_mybag)\n",
    "y_val_predicted_scores_mybag = classifier_mybag.decision_function(X_val_mybag)\n",
    "\n",
    "y_val_predicted_labels_tfidf = classifier_tfidf.predict(X_val_tfidf)\n",
    "y_val_predicted_scores_tfidf = classifier_tfidf.decision_function(X_val_tfidf)"
   ]
  },
  {
   "cell_type": "markdown",
   "metadata": {},
   "source": [
    "Now take a look at how classifier, which uses TF-IDF, works for a few examples:"
   ]
  },
  {
   "cell_type": "code",
   "execution_count": 34,
   "metadata": {},
   "outputs": [
    {
     "name": "stdout",
     "output_type": "stream",
     "text": [
      "Title:\todbc_exec always fail\n",
      "True labels:\tphp,sql\n",
      "Predicted labels:\t\n",
      "\n",
      "\n",
      "Title:\taccess base classes variable within child class\n",
      "True labels:\tjavascript\n",
      "Predicted labels:\t\n",
      "\n",
      "\n",
      "Title:\tcontenttype application json required rails\n",
      "True labels:\truby,ruby-on-rails\n",
      "Predicted labels:\tjson,ruby-on-rails\n",
      "\n",
      "\n",
      "Title:\tsessions sinatra used pass variable\n",
      "True labels:\truby,session\n",
      "Predicted labels:\t\n",
      "\n",
      "\n",
      "Title:\tgetting error type json exist postgresql rake db migrate\n",
      "True labels:\tjson,ruby,ruby-on-rails\n",
      "Predicted labels:\truby-on-rails\n",
      "\n",
      "\n",
      "Title:\tlibrary found\n",
      "True labels:\tc++,ios,iphone,xcode\n",
      "Predicted labels:\t\n",
      "\n",
      "\n",
      "Title:\tcsproj file programmatic adding deleting files\n",
      "True labels:\tc#\n",
      "Predicted labels:\t\n",
      "\n",
      "\n",
      "Title:\ttypeerror makedirs got unexpected keyword argument exists_ok\n",
      "True labels:\tdjango,python\n",
      "Predicted labels:\tpython\n",
      "\n",
      "\n",
      "Title:\tpan div using jquery\n",
      "True labels:\thtml,javascript,jquery\n",
      "Predicted labels:\tjavascript,jquery\n",
      "\n",
      "\n",
      "Title:\thibernate intermediate advanced tutorials\n",
      "True labels:\thibernate,java\n",
      "Predicted labels:\thibernate,java\n",
      "\n",
      "\n"
     ]
    }
   ],
   "source": [
    "y_val_pred_inversed = mlb.inverse_transform(y_val_predicted_labels_tfidf) # just opposite of tranform means it will give the name of classes rather than 0,1 in classes\n",
    "y_val_inversed = mlb.inverse_transform(y_val)\n",
    "for i in range(10):\n",
    "    print('Title:\\t{}\\nTrue labels:\\t{}\\nPredicted labels:\\t{}\\n\\n'.format(\n",
    "        X_val[i],\n",
    "        ','.join(y_val_inversed[i]),\n",
    "        ','.join(y_val_pred_inversed[i])\n",
    "    ))"
   ]
  },
  {
   "cell_type": "markdown",
   "metadata": {},
   "source": [
    "Now, we would need to compare the results of different predictions, e.g. to see whether TF-IDF transformation helps or to try different regularization techniques in logistic regression. For all these experiments, we need to setup evaluation procedure. "
   ]
  },
  {
   "cell_type": "markdown",
   "metadata": {},
   "source": [
    "### Evaluation\n",
    "\n",
    "To evaluate the results we will use several classification metrics:\n",
    " - [Accuracy](http://scikit-learn.org/stable/modules/generated/sklearn.metrics.accuracy_score.html)\n",
    " - [F1-score](http://scikit-learn.org/stable/modules/generated/sklearn.metrics.f1_score.html)\n",
    " - [Area under ROC-curve](http://scikit-learn.org/stable/modules/generated/sklearn.metrics.roc_auc_score.html)\n",
    " - [Area under precision-recall curve](http://scikit-learn.org/stable/modules/generated/sklearn.metrics.average_precision_score.html#sklearn.metrics.average_precision_score) \n",
    " \n",
    "Make sure you are familiar with all of them. How would you expect the things work for the multi-label scenario? Read about micro/macro/weighted averaging following the sklearn links provided above."
   ]
  },
  {
   "cell_type": "code",
   "execution_count": 35,
   "metadata": {},
   "outputs": [],
   "source": [
    "from sklearn.metrics import accuracy_score\n",
    "from sklearn.metrics import f1_score\n",
    "from sklearn.metrics import roc_auc_score \n",
    "from sklearn.metrics import average_precision_score\n",
    "from sklearn.metrics import recall_score"
   ]
  },
  {
   "cell_type": "markdown",
   "metadata": {},
   "source": [
    "Implement the function *print_evaluation_scores* which calculates and prints to stdout:\n",
    " - *accuracy*\n",
    " - *F1-score macro/micro/weighted*\n",
    " - *Precision macro/micro/weighted*"
   ]
  },
  {
   "cell_type": "code",
   "execution_count": 36,
   "metadata": {},
   "outputs": [],
   "source": [
    "def print_evaluation_scores(y_val, predicted):\n",
    "    accuracy=accuracy_score(y_val, predicted)\n",
    "    f1_score_macro=f1_score(y_val, predicted, average='macro')\n",
    "    f1_score_micro=f1_score(y_val, predicted, average='micro')\n",
    "    f1_score_weighted=f1_score(y_val, predicted, average='weighted')\n",
    "    precision_macro=average_precision_score(y_val, predicted, average='macro')\n",
    "    precision_micro=average_precision_score(y_val, predicted, average='micro')\n",
    "    precision_weighted=average_precision_score(y_val, predicted, average='weighted')\n",
    "    print(accuracy,f1_score_macro,f1_score_micro,f1_score_weighted,precision_macro,precision_micro,precision_weighted)\n",
    "    \n",
    "    "
   ]
  },
  {
   "cell_type": "code",
   "execution_count": 37,
   "metadata": {},
   "outputs": [
    {
     "name": "stdout",
     "output_type": "stream",
     "text": [
      "Bag-of-words\n",
      "0.3424 0.49940278618302264 0.6574672781021822 0.6341871771492302 0.3390893191348768 0.46376610086273684 0.49428525789913047\n",
      "Tfidf\n",
      "0.33363333333333334 0.44420352336445973 0.6403497239021825 0.6128187236796007 0.30075374165910257 0.4552637526997283 0.4835859965133505\n"
     ]
    }
   ],
   "source": [
    "print('Bag-of-words')\n",
    "print_evaluation_scores(y_val, y_val_predicted_labels_mybag)\n",
    "print('Tfidf')\n",
    "print_evaluation_scores(y_val, y_val_predicted_labels_tfidf)"
   ]
  },
  {
   "cell_type": "markdown",
   "metadata": {},
   "source": [
    "You might also want to plot some generalization of the [ROC curve](http://scikit-learn.org/stable/modules/model_evaluation.html#receiver-operating-characteristic-roc) for the case of multi-label classification. Provided function *roc_auc* can make it for you. The input parameters of this function are:\n",
    " - true labels\n",
    " - decision functions scores\n",
    " - number of classes"
   ]
  },
  {
   "cell_type": "code",
   "execution_count": 38,
   "metadata": {},
   "outputs": [],
   "source": [
    "from metrics import roc_auc\n",
    "%matplotlib inline"
   ]
  },
  {
   "cell_type": "code",
   "execution_count": 39,
   "metadata": {},
   "outputs": [
    {
     "data": {
      "image/png": "[encoded data removed]",
      "text/plain": [
       "<matplotlib.figure.Figure at 0x7209500eb8>"
      ]
     },
     "metadata": {},
     "output_type": "display_data"
    }
   ],
   "source": [
    "n_classes = len(tags_counts)\n",
    "roc_auc(y_val, y_val_predicted_scores_mybag, n_classes)"
   ]
  },
  {
   "cell_type": "code",
   "execution_count": 40,
   "metadata": {},
   "outputs": [
    {
     "data": {
      "image/png": "[encoded data removed]",
      "text/plain": [
       "<matplotlib.figure.Figure at 0x721339b898>"
      ]
     },
     "metadata": {},
     "output_type": "display_data"
    }
   ],
   "source": [
    "n_classes = len(tags_counts)\n",
    "roc_auc(y_val, y_val_predicted_scores_tfidf, n_classes)"
   ]
  },
  {
   "cell_type": "markdown",
   "metadata": {},
   "source": [
    "**Task 4 (MultilabelClassification).** Once we have the evaluation set up, we suggest that you experiment a bit with training your classifiers. We will use *F1-score weighted* as an evaluation metric. Our recommendation:\n",
    "- compare the quality of the bag-of-words and TF-IDF approaches and chose one of them.\n",
    "- for the chosen one, try *L1* and *L2*-regularization techniques in Logistic Regression with different coefficients (e.g. C equal to 0.1, 1, 10, 100).\n",
    "\n",
    "You also could try other improvements of the preprocessing / model, if you want. "
   ]
  },
  {
   "cell_type": "code",
   "execution_count": 53,
   "metadata": {},
   "outputs": [
    {
     "name": "stdout",
     "output_type": "stream",
     "text": [
      "done\n",
      "done1\n",
      "done2\n",
      "done3\n",
      "done4\n",
      "Bag-of-words\n",
      "0.3476 0.5110341521584254 0.6637483183276415 0.6408058847285402 0.34885043459014015 0.4699059405589153 0.5007572858055691\n"
     ]
    }
   ],
   "source": [
    "from sklearn.pipeline import make_pipeline\n",
    "print(\"done\") \n",
    "def train_classifier(X_train, y_train):\n",
    "    \"\"\"\n",
    "      X_train, y_train — training data\n",
    "      \n",
    "      return: trained classifier\n",
    "    \"\"\"\n",
    "    \n",
    "    # Create and fit LogisticRegression wraped into OneVsRestClassifier.\n",
    "   # pipe = make_pipeline( LogisticRegression(penalty=\"l1\"),OneVsRestClassifier(LogisticRegression(penalty=\"l2\")))\n",
    "    #model=pipe.fit(X_train, y_train)     \n",
    "    model=OneVsRestClassifier(LogisticRegression(penalty=\"l1\",C=1)).fit(X_train,y_train)\n",
    "    \n",
    "    return model\n",
    "\n",
    "print(\"done1\")    \n",
    "\n",
    "classifier_mybag = train_classifier(X_train_mybag, y_train)\n",
    "#classifier_tfidf = train_classifier(X_train_tfidf, y_train)\n",
    "print(\"done2\")\n",
    "y_val_predicted_labels_mybag = classifier_mybag.predict(X_val_mybag)\n",
    "#y_val_predicted_scores_mybag = classifier_mybag.decision_function(X_val_mybag)\n",
    "print(\"done3\")\n",
    "#y_val_predicted_labels_tfidf = classifier_tfidf.predict(X_val_tfidf)\n",
    "#y_val_predicted_scores_tfidf = classifier_tfidf.decision_function(X_val_tfidf)\n",
    "\n",
    "from sklearn.metrics import accuracy_score\n",
    "from sklearn.metrics import f1_score\n",
    "from sklearn.metrics import roc_auc_score \n",
    "from sklearn.metrics import average_precision_score\n",
    "from sklearn.metrics import recall_score\n",
    "\n",
    "def print_evaluation_scores(y_val, predicted):\n",
    "    accuracy=accuracy_score(y_val, predicted)\n",
    "    f1_score_macro=f1_score(y_val, predicted, average='macro')\n",
    "    f1_score_micro=f1_score(y_val, predicted, average='micro')\n",
    "    f1_score_weighted=f1_score(y_val, predicted, average='weighted')\n",
    "    precision_macro=average_precision_score(y_val, predicted, average='macro')\n",
    "    precision_micro=average_precision_score(y_val, predicted, average='micro')\n",
    "    precision_weighted=average_precision_score(y_val, predicted, average='weighted')\n",
    "    print(accuracy,f1_score_macro,f1_score_micro,f1_score_weighted,precision_macro,precision_micro,precision_weighted)\n",
    "\n",
    "print(\"done4\")    \n",
    "print('Bag-of-words')\n",
    "print_evaluation_scores(y_val, y_val_predicted_labels_mybag)\n",
    "#print('Tfidf')\n",
    "#print_evaluation_scores(y_val, y_val_predicted_labels_tfidf)    "
   ]
  },
  {
   "cell_type": "markdown",
   "metadata": {},
   "source": [
    "When you are happy with the quality, create predictions for *test* set, which you will submit to Coursera."
   ]
  },
  {
   "cell_type": "code",
   "execution_count": 54,
   "metadata": {},
   "outputs": [
    {
     "name": "stdout",
     "output_type": "stream",
     "text": [
      "Current answer for task MultilabelClassification is:\n",
      " 0\tmysql,php\n",
      "1\tjavascript\n",
      "2\t\n",
      "3\tjavascript,jquery\n",
      "4\tandroid,java\n",
      "5\tphp,xml\n",
      "6\tjson,web-services\n",
      "7\tjava,...\n"
     ]
    }
   ],
   "source": [
    "test_predictions = classifier_mybag.predict(X_test_mybag)\n",
    "test_pred_inversed = mlb.inverse_transform(test_predictions)\n",
    "\n",
    "test_predictions_for_submission = '\\n'.join('%i\\t%s' % (i, ','.join(row)) for i, row in enumerate(test_pred_inversed))\n",
    "grader.submit_tag('MultilabelClassification', test_predictions_for_submission)"
   ]
  },
  {
   "cell_type": "markdown",
   "metadata": {},
   "source": [
    "### Analysis of the most important features"
   ]
  },
  {
   "cell_type": "markdown",
   "metadata": {},
   "source": [
    "Finally, it is usually a good idea to look at the features (words or n-grams) that are used with the largest weigths in your logistic regression model."
   ]
  },
  {
   "cell_type": "markdown",
   "metadata": {},
   "source": [
    "Implement the function *print_words_for_tag* to find them. Get back to sklearn documentation on [OneVsRestClassifier](http://scikit-learn.org/stable/modules/generated/sklearn.multiclass.OneVsRestClassifier.html) and [LogisticRegression](http://scikit-learn.org/stable/modules/generated/sklearn.linear_model.LogisticRegression.html) if needed."
   ]
  },
  {
   "cell_type": "code",
   "execution_count": null,
   "metadata": {
    "collapsed": true
   },
   "outputs": [],
   "source": [
    "def print_words_for_tag(classifier, tag, tags_classes, index_to_words, all_words):\n",
    "    \"\"\"\n",
    "        classifier: trained classifier\n",
    "        tag: particular tag\n",
    "        tags_classes: a list of classes names from MultiLabelBinarizer\n",
    "        index_to_words: index_to_words transformation\n",
    "        all_words: all words in the dictionary\n",
    "        \n",
    "        return nothing, just print top 5 positive and top 5 negative words for current tag\n",
    "    \"\"\"\n",
    "    print('Tag:\\t{}'.format(tag))\n",
    "    \n",
    "    # Extract an estimator from the classifier for the given tag.\n",
    "    # Extract feature coefficients from the estimator. \n",
    "    \n",
    "    ######################################\n",
    "    ######### YOUR CODE HERE #############\n",
    "    ######################################\n",
    "    \n",
    "    top_positive_words = # top-5 words sorted by the coefficiens.\n",
    "    top_negative_words = # bottom-5 words  sorted by the coefficients.\n",
    "    print('Top positive words:\\t{}'.format(', '.join(top_positive_words)))\n",
    "    print('Top negative words:\\t{}\\n'.format(', '.join(top_negative_words)))"
   ]
  },
  {
   "cell_type": "code",
   "execution_count": null,
   "metadata": {
    "collapsed": true
   },
   "outputs": [],
   "source": [
    "print_words_for_tag(classifier_tfidf, 'c', mlb.classes, tfidf_reversed_vocab, ALL_WORDS)\n",
    "print_words_for_tag(classifier_tfidf, 'c++', mlb.classes, tfidf_reversed_vocab, ALL_WORDS)\n",
    "print_words_for_tag(classifier_tfidf, 'linux', mlb.classes, tfidf_reversed_vocab, ALL_WORDS)"
   ]
  },
  {
   "cell_type": "markdown",
   "metadata": {},
   "source": [
    "### Authorization & Submission\n",
    "To submit assignment parts to Cousera platform, please, enter your e-mail and token into variables below. You can generate token on this programming assignment page. <b>Note:</b> Token expires 30 minutes after generation."
   ]
  },
  {
   "cell_type": "code",
   "execution_count": null,
   "metadata": {
    "collapsed": true
   },
   "outputs": [],
   "source": [
    "grader.status()"
   ]
  },
  {
   "cell_type": "code",
   "execution_count": null,
   "metadata": {
    "collapsed": true
   },
   "outputs": [],
   "source": [
    "STUDENT_EMAIL = # EMAIL \n",
    "STUDENT_TOKEN = # TOKEN \n",
    "grader.status()"
   ]
  },
  {
   "cell_type": "markdown",
   "metadata": {},
   "source": [
    "If you want to submit these answers, run cell below"
   ]
  },
  {
   "cell_type": "code",
   "execution_count": null,
   "metadata": {
    "collapsed": true
   },
   "outputs": [],
   "source": [
    "grader.submit(STUDENT_EMAIL, STUDENT_TOKEN)"
   ]
  }
 ],
 "metadata": {
  "kernelspec": {
   "display_name": "Python 3",
   "language": "python",
   "name": "python3"
  },
  "language_info": {
   "codemirror_mode": {
    "name": "ipython",
    "version": 3
   },
   "file_extension": ".py",
   "mimetype": "text/x-python",
   "name": "python",
   "nbconvert_exporter": "python",
   "pygments_lexer": "ipython3",
   "version": "3.6.4"
  }
 },
 "nbformat": 4,
 "nbformat_minor": 2
}
